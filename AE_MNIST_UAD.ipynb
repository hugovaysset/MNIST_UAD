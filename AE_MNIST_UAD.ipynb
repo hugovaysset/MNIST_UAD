{
 "cells": [
  {
   "cell_type": "markdown",
   "metadata": {
    "colab_type": "text",
    "id": "AddPZcKZDXLq"
   },
   "source": [
    "# Unsupervised anomaly detection in the MNIST dataset using simple Autoencoders\n",
    "\n",
    "The goal here is to generate some simple anomalies in the MNIST dataset and design an autoencoder (AE) which is capable of detecting and segmenting the errors introduced in the digits images."
   ]
  },
  {
   "cell_type": "code",
   "execution_count": 1,
   "metadata": {
    "colab": {
     "base_uri": "https://localhost:8080/",
     "height": 35
    },
    "colab_type": "code",
    "id": "fETnEEhzDXLr",
    "outputId": "1882b2af-5cd4-463d-8900-2b3d8dad0820"
   },
   "outputs": [
    {
     "name": "stdout",
     "output_type": "stream",
     "text": [
      "2.2.0\n"
     ]
    }
   ],
   "source": [
    "%matplotlib inline\n",
    "%gui qt5\n",
    "\n",
    "import matplotlib.pyplot as plt\n",
    "import numpy as np\n",
    "\n",
    "import tensorflow as tf\n",
    "from tensorflow.random import normal\n",
    "import tensorflow.keras as keras\n",
    "\n",
    "from tensorflow.keras import Model, layers\n",
    "from tensorflow.keras.datasets import mnist\n",
    "\n",
    "print(tf.__version__)"
   ]
  },
  {
   "cell_type": "markdown",
   "metadata": {
    "colab_type": "text",
    "id": "cNg-n_ftDXL_"
   },
   "source": [
    "### Dataset"
   ]
  },
  {
   "cell_type": "code",
   "execution_count": 2,
   "metadata": {
    "colab": {
     "base_uri": "https://localhost:8080/",
     "height": 110
    },
    "colab_type": "code",
    "id": "Fz0NeH6yDXMB",
    "outputId": "a5c9563b-01dd-4506-f97c-28db441b324a"
   },
   "outputs": [
    {
     "name": "stdout",
     "output_type": "stream",
     "text": [
      "(60000, 784)\n",
      "(10000, 784)\n"
     ]
    }
   ],
   "source": [
    "(x_train, _), (x_test, _) = mnist.load_data()\n",
    "\n",
    "x_train = x_train.astype('float32') / 255.0\n",
    "x_test = x_test.astype('float32') / 255.0\n",
    "x_train = x_train.reshape((len(x_train), np.prod(x_train.shape[1:])))\n",
    "x_test = x_test.reshape((len(x_test), np.prod(x_test.shape[1:])))\n",
    "    \n",
    "print(x_train.shape)\n",
    "print(x_test.shape)"
   ]
  },
  {
   "cell_type": "markdown",
   "metadata": {
    "colab_type": "text",
    "id": "O3sWVM9jz0gx"
   },
   "source": [
    "### Utility functions to generate and plot anomalies"
   ]
  },
  {
   "cell_type": "code",
   "execution_count": 5,
   "metadata": {
    "colab": {
     "base_uri": "https://localhost:8080/",
     "height": 35
    },
    "colab_type": "code",
    "id": "55lzddbi0XJK",
    "outputId": "9fb8160f-5cd5-4bb7-b6d0-ea91e61cc76f"
   },
   "outputs": [],
   "source": [
    "# mount google drive: follow the link, choose the account that contains the dataset and paste token in the displayed field\n",
    "# from google.colab import drive\n",
    "# import os\n",
    "# import sys\n",
    "\n",
    "# drive_folder = \"BACMMAN_DISTNET/UAD/MNIST/\"\n",
    "\n",
    "# def mount_drive():\n",
    "#   drive.mount('/content/driveDL', force_remount=True)\n",
    "#   os.chdir(\"/content/driveDL/My Drive/\"+drive_folder)\n",
    "# mount_drive()"
   ]
  },
  {
   "cell_type": "code",
   "execution_count": 6,
   "metadata": {
    "colab": {},
    "colab_type": "code",
    "id": "JxNBGbMSz0gz"
   },
   "outputs": [],
   "source": [
    "from MNIST_anomalies import set_anomaly, predict_anomalies, contour_anomalies, plot_anomalies\n",
    "from MNIST_anomalies import plot_predictions"
   ]
  },
  {
   "cell_type": "code",
   "execution_count": 7,
   "metadata": {
    "colab": {
     "base_uri": "https://localhost:8080/",
     "height": 294
    },
    "colab_type": "code",
    "id": "I8sx1JA1z0g9",
    "outputId": "bd6af641-1afb-4314-88b3-8078ea751f25"
   },
   "outputs": [
    {
     "data": {
      "text/plain": [
       "<matplotlib.colorbar.Colorbar at 0x199d3a58988>"
      ]
     },
     "execution_count": 7,
     "metadata": {},
     "output_type": "execute_result"
    },
    {
     "data": {
      "text/plain": [
       "<Figure size 432x288 with 0 Axes>"
      ]
     },
     "metadata": {},
     "output_type": "display_data"
    },
    {
     "data": {
      "image/png": "[encoded data removed]",
      "text/plain": [
       "<Figure size 288x288 with 2 Axes>"
      ]
     },
     "metadata": {
      "needs_background": "light"
     },
     "output_type": "display_data"
    }
   ],
   "source": [
    "plt.viridis()\n",
    "\n",
    "idx = 4\n",
    "\n",
    "norm = x_train[idx].reshape((28, 28))\n",
    "anom = set_anomaly(norm)\n",
    "\n",
    "maskimg = np.abs(anom - norm) > 0\n",
    "\n",
    "fig, ax = plt.subplots(1, 1, figsize=(4, 4))\n",
    "\n",
    "plt.imshow(anom)\n",
    "contour_anomalies(ax, maskimg)\n",
    "plt.title(\"digit with anomalies\")\n",
    "plt.colorbar()"
   ]
  },
  {
   "cell_type": "markdown",
   "metadata": {
    "colab_type": "text",
    "id": "DWYovJMdDXMI"
   },
   "source": [
    "# 1. The simple autoencoder"
   ]
  },
  {
   "cell_type": "code",
   "execution_count": null,
   "metadata": {
    "colab": {
     "base_uri": "https://localhost:8080/",
     "height": 144
    },
    "colab_type": "code",
    "id": "wANAMvT6DXMJ",
    "outputId": "cb8fe9ba-7c6e-4387-882c-5f3cf5cba100"
   },
   "outputs": [
    {
     "name": "stdout",
     "output_type": "stream",
     "text": [
      "Epoch 1/3\n",
      "1875/1875 [==============================] - 4s 2ms/step - loss: 0.1375\n",
      "Epoch 2/3\n",
      "1875/1875 [==============================] - 4s 2ms/step - loss: 0.0986\n",
      "Epoch 3/3\n",
      "1875/1875 [==============================] - 4s 2ms/step - loss: 0.0930\n"
     ]
    },
    {
     "data": {
      "text/plain": [
       "<tensorflow.python.keras.callbacks.History at 0x1e6bc4bbd88>"
      ]
     },
     "execution_count": 5,
     "metadata": {
      "tags": []
     },
     "output_type": "execute_result"
    }
   ],
   "source": [
    "input_size = 784\n",
    "hidden_size = 128\n",
    "code_size = 32\n",
    "\n",
    "input_img = layers.Input(shape=(input_size,))\n",
    "hidden_1 = layers.Dense(hidden_size, activation='relu')(input_img)\n",
    "code = layers.Dense(code_size, activation='relu')(hidden_1)\n",
    "hidden_2 = layers.Dense(hidden_size, activation='relu')(code)\n",
    "output_img = layers.Dense(input_size, activation='sigmoid')(hidden_2)\n",
    "\n",
    "autoencoder = Model(input_img, output_img)\n",
    "autoencoder.compile(optimizer='adam', loss='binary_crossentropy')\n",
    "autoencoder.fit(x_train, x_train, epochs=3)"
   ]
  },
  {
   "cell_type": "code",
   "execution_count": null,
   "metadata": {
    "colab": {},
    "colab_type": "code",
    "id": "JOWa7pBuDXMQ",
    "outputId": "3f9bde33-e349-4794-8991-7718d35b0685"
   },
   "outputs": [
    {
     "data": {
      "image/png": "[encoded data removed]",
      "text/plain": [
       "<Figure size 720x324 with 10 Axes>"
      ]
     },
     "metadata": {
      "needs_background": "light",
      "tags": []
     },
     "output_type": "display_data"
    }
   ],
   "source": [
    "plot_predictions(autoencoder, x_test, 5, dims=(784,))"
   ]
  },
  {
   "cell_type": "code",
   "execution_count": null,
   "metadata": {
    "colab": {},
    "colab_type": "code",
    "id": "1FUusL36z0hV"
   },
   "outputs": [],
   "source": [
    "pred, anomalies, anomalies_pred = predict_anomalies(autoencoder, x_test, dims=(784,))"
   ]
  },
  {
   "cell_type": "code",
   "execution_count": null,
   "metadata": {
    "colab": {
     "base_uri": "https://localhost:8080/",
     "height": 535
    },
    "colab_type": "code",
    "id": "SldBv9OkDXMm",
    "outputId": "bba00939-e978-4551-f7c0-4852918df0a6"
   },
   "outputs": [
    {
     "data": {
      "image/png": "[encoded data removed]",
      "text/plain": [
       "<Figure size 576x576 with 4 Axes>"
      ]
     },
     "metadata": {
      "needs_background": "light",
      "tags": []
     },
     "output_type": "display_data"
    }
   ],
   "source": [
    "plot_anomalies(x_test, pred, anomalies, anomalies_pred, show_idx=15, threshold=0.7)"
   ]
  },
  {
   "cell_type": "code",
   "execution_count": null,
   "metadata": {
    "colab": {},
    "colab_type": "code",
    "id": "4I32IOOTz0hi"
   },
   "outputs": [],
   "source": [
    "# Visualizing with napari\n",
    "\n",
    "# from napari.utils import nbscreenshot\n",
    "\n",
    "# show_idx = 15\n",
    "\n",
    "# from skimage import data\n",
    "# import napari\n",
    "\n",
    "# with napari.gui_qt():\n",
    "#     viewer = napari.view_image(x_test[show_idx].reshape((28, 28)), name=\"original\")\n",
    "    \n",
    "#     viewer.add_image(pred[show_idx].reshape((28, 28)), name=\"prediction\")\n",
    "    \n",
    "#     viewer.add_image(anomalies[show_idx].reshape((28, 28)), name=\"anomaly\")\n",
    "#     viewer.add_labels(true_anomaly.reshape((28,28)), name=\"segmented anomaly\")\n",
    "    \n",
    "#     viewer.add_image(anomalies_pred[show_idx].reshape((28, 28)), name=\"anomaly prediction\")\n",
    "#     viewer.add_labels(predicted_anomaly.reshape((28,28)), name=\"predicted anomaly\")\n",
    "\n",
    "# #     viewer.grid_view()\n",
    "\n",
    "# nbscreenshot(viewer, canvas_only=True)\n",
    "    "
   ]
  },
  {
   "cell_type": "markdown",
   "metadata": {
    "colab_type": "text",
    "id": "-KfIPjZcDXMu"
   },
   "source": [
    "Thus we show that with a simple encoder architecture, we are able to detect and segment anomalies on new examples, to some extent. The threshold has to be chosen according to a trade-off between getting all the anormal pixels (even those with low intensity) and getting a lot of false positives. Next, we wille check with an autoencoder architecture if we can improve the performances."
   ]
  },
  {
   "cell_type": "markdown",
   "metadata": {
    "colab_type": "text",
    "id": "VwbMJhQxDXMv"
   },
   "source": [
    "# 2. Convolutional Autoencoder\n",
    "\n",
    "Here we adapt the UNet architecture to our problem : we suppress the skip connections and keep the convolutional encoder-decoder structure.\n",
    "\n",
    "To begin we use a reduced UNet architecture, with only two convolution-pooling blocks of two layers in the coder and in the encoder, instead of for blocks for each in the original architecture. The number of filters was also reduced by 16."
   ]
  },
  {
   "cell_type": "code",
   "execution_count": 1,
   "metadata": {
    "colab": {},
    "colab_type": "code",
    "id": "UyeHTS0PDXM3"
   },
   "outputs": [
    {
     "ename": "NameError",
     "evalue": "name 'Input' is not defined",
     "output_type": "error",
     "traceback": [
      "\u001b[1;31m---------------------------------------------------------------------------\u001b[0m",
      "\u001b[1;31mNameError\u001b[0m                                 Traceback (most recent call last)",
      "\u001b[1;32m<ipython-input-1-6ee17dd1c64f>\u001b[0m in \u001b[0;36m<module>\u001b[1;34m\u001b[0m\n\u001b[0;32m     19\u001b[0m     \u001b[1;32mreturn\u001b[0m \u001b[0mx\u001b[0m\u001b[1;33m\u001b[0m\u001b[1;33m\u001b[0m\u001b[0m\n\u001b[0;32m     20\u001b[0m \u001b[1;33m\u001b[0m\u001b[0m\n\u001b[1;32m---> 21\u001b[1;33m \u001b[0minputs\u001b[0m \u001b[1;33m=\u001b[0m \u001b[0mInput\u001b[0m\u001b[1;33m(\u001b[0m\u001b[0mshape\u001b[0m\u001b[1;33m=\u001b[0m\u001b[1;33m(\u001b[0m\u001b[1;36m28\u001b[0m\u001b[1;33m,\u001b[0m \u001b[1;36m28\u001b[0m\u001b[1;33m,\u001b[0m \u001b[1;36m1\u001b[0m\u001b[1;33m)\u001b[0m\u001b[1;33m)\u001b[0m\u001b[1;33m\u001b[0m\u001b[1;33m\u001b[0m\u001b[0m\n\u001b[0m\u001b[0;32m     22\u001b[0m \u001b[0mn_filters\u001b[0m \u001b[1;33m=\u001b[0m \u001b[1;36m4\u001b[0m\u001b[1;33m\u001b[0m\u001b[1;33m\u001b[0m\u001b[0m\n\u001b[0;32m     23\u001b[0m \u001b[0mbatchnorm\u001b[0m \u001b[1;33m=\u001b[0m \u001b[1;32mTrue\u001b[0m\u001b[1;33m\u001b[0m\u001b[1;33m\u001b[0m\u001b[0m\n",
      "\u001b[1;31mNameError\u001b[0m: name 'Input' is not defined"
     ]
    }
   ],
   "source": [
    "# short U-Net version\n",
    "\n",
    "def conv2d_block(input_tensor, n_filters, kernel_size = 3, batchnorm = True):\n",
    "    \"\"\"Function to add 2 convolutional layers with the parameters passed to it\"\"\"\n",
    "    # first layer\n",
    "    x = layers.Conv2D(filters = n_filters, kernel_size = (kernel_size, kernel_size),\\\n",
    "              kernel_initializer = 'he_normal', padding = 'same')(input_tensor)\n",
    "    if batchnorm:\n",
    "        x = layers.BatchNormalization()(x)\n",
    "    x = layers.Activation('relu')(x)\n",
    "    \n",
    "    # second layer\n",
    "    x = layers.Conv2D(filters = n_filters, kernel_size = (kernel_size, kernel_size),\\\n",
    "              kernel_initializer = 'he_normal', padding = 'same')(input_tensor)\n",
    "    if batchnorm:\n",
    "        x = layers.BatchNormalization()(x)\n",
    "    x = layers.Activation('relu')(x)\n",
    "    \n",
    "    return x\n",
    "\n",
    "inputs = Input(shape=(28, 28, 1))\n",
    "n_filters = 4\n",
    "batchnorm = True\n",
    "dropout = 0.1\n",
    "  \n",
    "# Contracting Path\n",
    "c1 = conv2d_block(inputs, n_filters * 1, kernel_size = 3, batchnorm = batchnorm)\n",
    "p1 = MaxPooling2D((2, 2))(c1)\n",
    "p1 = Dropout(dropout)(p1)\n",
    "\n",
    "c2 = conv2d_block(p1, n_filters * 2, kernel_size = 3, batchnorm = batchnorm)\n",
    "p2 = MaxPooling2D((2, 2))(c2)\n",
    "p2 = Dropout(dropout)(p2)\n",
    "\n",
    "c5 = conv2d_block(p2, n_filters = n_filters * 4, kernel_size = 3, batchnorm = batchnorm)\n",
    "\n",
    "u8 = Conv2DTranspose(n_filters * 2, (3, 3), strides = (2, 2), padding = 'same')(c5)\n",
    "u8 = Dropout(dropout)(u8)\n",
    "c8 = conv2d_block(u8, n_filters * 2, kernel_size = 3, batchnorm = batchnorm)\n",
    "\n",
    "u9 = Conv2DTranspose(n_filters * 1, (3, 3), strides = (2, 2), padding = 'same')(c8)\n",
    "u9 = Dropout(dropout)(u9)\n",
    "c9 = conv2d_block(u9, n_filters * 1, kernel_size = 3, batchnorm = batchnorm)\n",
    "\n",
    "outputs = Conv2D(1, (1, 1), activation='sigmoid')(c9)\n",
    "\n",
    "cae = Model(inputs, outputs)"
   ]
  },
  {
   "cell_type": "code",
   "execution_count": null,
   "metadata": {
    "colab": {
     "base_uri": "https://localhost:8080/",
     "height": 217
    },
    "colab_type": "code",
    "id": "uycOWhY1DXNA",
    "outputId": "bc2c029f-18fa-4c29-930d-8988ec52438a"
   },
   "outputs": [
    {
     "name": "stdout",
     "output_type": "stream",
     "text": [
      "Epoch 1/5\n",
      "60000/60000 [==============================] - 99s 2ms/step - loss: 0.4307\n",
      "Epoch 2/5\n",
      "60000/60000 [==============================] - 99s 2ms/step - loss: 0.1951\n",
      "Epoch 3/5\n",
      "60000/60000 [==============================] - 100s 2ms/step - loss: 0.1321\n",
      "Epoch 4/5\n",
      "60000/60000 [==============================] - 100s 2ms/step - loss: 0.1090\n",
      "Epoch 5/5\n",
      "60000/60000 [==============================] - 101s 2ms/step - loss: 0.0993\n"
     ]
    },
    {
     "data": {
      "text/plain": [
       "<keras.callbacks.callbacks.History at 0x7efc83d4f048>"
      ]
     },
     "execution_count": 11,
     "metadata": {
      "tags": []
     },
     "output_type": "execute_result"
    }
   ],
   "source": [
    "x_train_reshaped = np.array([x.reshape((28, 28, 1)) for x in x_train])\n",
    "cae.compile(optimizer='adam', loss='binary_crossentropy')\n",
    "cae.fit(x_train_reshaped, x_train_reshaped, epochs=5)"
   ]
  },
  {
   "cell_type": "code",
   "execution_count": null,
   "metadata": {
    "colab": {
     "base_uri": "https://localhost:8080/",
     "height": 535
    },
    "colab_type": "code",
    "id": "5ZLoeSh3DXNO",
    "outputId": "0e066e91-934e-45a9-b0ab-618a4869f3aa"
   },
   "outputs": [
    {
     "name": "stdout",
     "output_type": "stream",
     "text": [
      "(28, 28)\n",
      "(28, 28)\n"
     ]
    },
    {
     "data": {
      "image/png": "[encoded data removed]",
      "text/plain": [
       "<Figure size 576x576 with 4 Axes>"
      ]
     },
     "metadata": {
      "needs_background": "light",
      "tags": []
     },
     "output_type": "display_data"
    }
   ],
   "source": [
    "plot_anomalies(cae, show_idx=15)"
   ]
  },
  {
   "cell_type": "markdown",
   "metadata": {
    "colab_type": "text",
    "id": "sPnKRYUkER5e"
   },
   "source": [
    "We see that the convolutional autoencoder outperforms the standard one, with a better segmentation of the identified anomaly (at constant threshold)."
   ]
  },
  {
   "cell_type": "code",
   "execution_count": null,
   "metadata": {
    "colab": {},
    "colab_type": "code",
    "id": "ttsIw9GiTg7G"
   },
   "outputs": [],
   "source": []
  }
 ],
 "metadata": {
  "colab": {
   "collapsed_sections": [],
   "name": "MNIST_UAD.ipynb",
   "provenance": []
  },
  "kernelspec": {
   "display_name": "Python 3",
   "language": "python",
   "name": "python3"
  },
  "language_info": {
   "codemirror_mode": {
    "name": "ipython",
    "version": 3
   },
   "file_extension": ".py",
   "mimetype": "text/x-python",
   "name": "python",
   "nbconvert_exporter": "python",
   "pygments_lexer": "ipython3",
   "version": "3.7.6"
  }
 },
 "nbformat": 4,
 "nbformat_minor": 4
}
