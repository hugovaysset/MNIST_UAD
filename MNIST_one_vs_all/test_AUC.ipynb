{
 "cells": [
  {
   "cell_type": "markdown",
   "metadata": {},
   "source": [
    "# Test AUC Callback - plot ROC"
   ]
  },
  {
   "cell_type": "code",
   "execution_count": 3,
   "metadata": {},
   "outputs": [
    {
     "name": "stdout",
     "output_type": "stream",
     "text": [
      "2.2.0\n"
     ]
    }
   ],
   "source": [
    "%matplotlib inline\n",
    "\n",
    "import matplotlib.pyplot as plt\n",
    "import numpy as np\n",
    "\n",
    "import tensorflow as tf\n",
    "from tensorflow.random import normal\n",
    "import tensorflow.keras as keras\n",
    "\n",
    "from tensorflow.keras import Model, layers\n",
    "from tensorflow.keras.datasets import mnist\n",
    "\n",
    "from uad.MNIST.draw_line import set_anomaly, predict_anomalies, contour_anomalies, plot_anomalies\n",
    "from uad.MNIST.one_vs_all import plot_prediction, plot_per_digit_proportion\n",
    "from uad.decision.reconstruction import is_anormal, decision_function, binarize_set\n",
    "\n",
    "from uad.models.variational_autoencoder import ConvolutionalVAE\n",
    "from uad.callbacks.classification import AUCCallback\n",
    "from uad.callbacks.barycentre import BarycentreSchedule\n",
    "from uad.metrics.AU_ROC import compute_ROC, compute_AUC, plot_ROC\n",
    "\n",
    "print(tf.__version__)\n",
    "\n",
    "# !nvidia-smi"
   ]
  },
  {
   "cell_type": "code",
   "execution_count": 4,
   "metadata": {},
   "outputs": [
    {
     "name": "stdout",
     "output_type": "stream",
     "text": [
      "(4825, 28, 28, 1) (4825,) (1000, 28, 28, 1) (1000,)\n"
     ]
    }
   ],
   "source": [
    "(x_train, y_train), (x_test, y_test) = tf.keras.datasets.mnist.load_data()\n",
    "\n",
    "x_train = np.expand_dims(x_train, -1).astype(\"float32\") / 255\n",
    "x_test = np.expand_dims(x_test, -1).astype(\"float32\") / 255\n",
    "\n",
    "x_val, y_val = x_train[-1000:], binarize_set(y_train[-1000:], interest=0)\n",
    "y_test0 = binarize_set(y_test)\n",
    "\n",
    "# train set sorted by digits: digits_train[i] = x_train elements where y_train == i\n",
    "digits_train = np.array([x_train[np.where(y_train[:-1000] == i)] for i in range(10)])\n",
    "\n",
    "# training set contains only zeros (for training on zeros)\n",
    "x_train0, y_train0 = digits_train[0][:-1000], y_train[np.where(y_train[:-1000] == 0)][:-1000]\n",
    "\n",
    "print(x_train0.shape, y_train0.shape, x_val.shape, y_val.shape)"
   ]
  },
  {
   "cell_type": "code",
   "execution_count": 4,
   "metadata": {},
   "outputs": [],
   "source": [
    "latent_dim = 16\n",
    "\n",
    "# compute metric on evaluation set\n",
    "auc_metric = AUCCallback(x_val, y_val)\n",
    "\n",
    "vae = ConvolutionalVAE(latent_dim)\n",
    "\n",
    "vae.compile(optimizer=tf.keras.optimizers.Adam())"
   ]
  },
  {
   "cell_type": "code",
   "execution_count": 5,
   "metadata": {},
   "outputs": [
    {
     "name": "stdout",
     "output_type": "stream",
     "text": [
      "Epoch 1/7\n",
      "38/38 [==============================] - ETA: 0s - loss: 373.7809 - reconstruction_loss: 373.4606 - kl_loss: 0.3203AUC = 0.5\n",
      "38/38 [==============================] - 13s 336ms/step - loss: 373.0776 - reconstruction_loss: 372.7477 - kl_loss: 0.3299\n",
      "Epoch 2/7\n",
      "38/38 [==============================] - ETA: 0s - loss: 290.2618 - reconstruction_loss: 288.8379 - kl_loss: 1.4239AUC = 0.4966740608215332\n",
      "38/38 [==============================] - 12s 318ms/step - loss: 289.0728 - reconstruction_loss: 287.6318 - kl_loss: 1.4411\n",
      "Epoch 3/7\n",
      "38/38 [==============================] - ETA: 0s - loss: 238.9235 - reconstruction_loss: 237.1521 - kl_loss: 1.7714AUC = 0.4983370304107666\n",
      "38/38 [==============================] - 12s 317ms/step - loss: 238.7415 - reconstruction_loss: 236.9713 - kl_loss: 1.7702\n",
      "Epoch 4/7\n",
      "38/38 [==============================] - ETA: 0s - loss: 229.2131 - reconstruction_loss: 227.4874 - kl_loss: 1.7257AUC = 0.5\n",
      "38/38 [==============================] - 12s 327ms/step - loss: 229.0327 - reconstruction_loss: 227.3080 - kl_loss: 1.7247\n",
      "Epoch 5/7\n",
      "38/38 [==============================] - ETA: 0s - loss: 205.0403 - reconstruction_loss: 203.3522 - kl_loss: 1.6881AUC = 0.5255101919174194\n",
      "38/38 [==============================] - 12s 319ms/step - loss: 204.1445 - reconstruction_loss: 202.4497 - kl_loss: 1.6947\n",
      "Epoch 6/7\n",
      "38/38 [==============================] - ETA: 0s - loss: 153.5272 - reconstruction_loss: 151.0663 - kl_loss: 2.4609AUC = 0.5969387888908386\n",
      "38/38 [==============================] - 12s 322ms/step - loss: 153.2041 - reconstruction_loss: 150.7343 - kl_loss: 2.4698\n",
      "Epoch 7/7\n",
      "38/38 [==============================] - ETA: 0s - loss: 134.2024 - reconstruction_loss: 131.2391 - kl_loss: 2.9633AUC = 0.6377550959587097\n",
      "38/38 [==============================] - 12s 320ms/step - loss: 134.1307 - reconstruction_loss: 131.1657 - kl_loss: 2.9650\n"
     ]
    },
    {
     "data": {
      "text/plain": [
       "<tensorflow.python.keras.callbacks.History at 0x1b38c78d188>"
      ]
     },
     "execution_count": 5,
     "metadata": {},
     "output_type": "execute_result"
    }
   ],
   "source": [
    "vae.fit(x_train0, x_train0, epochs=7, batch_size=128, callbacks=[auc_metric])"
   ]
  },
  {
   "cell_type": "markdown",
   "metadata": {},
   "source": [
    "## ROC curve"
   ]
  },
  {
   "cell_type": "code",
   "execution_count": 8,
   "metadata": {},
   "outputs": [],
   "source": [
    "fpr, tpr, thresh = compute_ROC(x_test, vae.predict(x_test), y_test0)"
   ]
  },
  {
   "cell_type": "code",
   "execution_count": 28,
   "metadata": {},
   "outputs": [
    {
     "data": {
      "text/plain": [
       "(<Figure size 504x504 with 1 Axes>,\n",
       " <matplotlib.axes._subplots.AxesSubplot at 0x1b380beba08>)"
      ]
     },
     "execution_count": 28,
     "metadata": {},
     "output_type": "execute_result"
    },
    {
     "data": {
      "image/png": "[encoded data removed]",
      "text/plain": [
       "<Figure size 504x504 with 1 Axes>"
      ]
     },
     "metadata": {
      "needs_background": "light"
     },
     "output_type": "display_data"
    }
   ],
   "source": [
    "plot_ROC(fpr, tpr, labels=\"ROC Curve VAE\")"
   ]
  },
  {
   "cell_type": "code",
   "execution_count": null,
   "metadata": {},
   "outputs": [],
   "source": []
  }
 ],
 "metadata": {
  "kernelspec": {
   "display_name": "Python 3",
   "language": "python",
   "name": "python3"
  },
  "language_info": {
   "codemirror_mode": {
    "name": "ipython",
    "version": 3
   },
   "file_extension": ".py",
   "mimetype": "text/x-python",
   "name": "python",
   "nbconvert_exporter": "python",
   "pygments_lexer": "ipython3",
   "version": "3.7.6"
  }
 },
 "nbformat": 4,
 "nbformat_minor": 4
}
