{
 "cells": [
  {
   "cell_type": "markdown",
   "metadata": {},
   "source": [
    "## Evaluate Geonet"
   ]
  },
  {
   "cell_type": "code",
   "execution_count": 5,
   "metadata": {
    "colab": {
     "base_uri": "https://localhost:8080/",
     "height": 564
    },
    "colab_type": "code",
    "executionInfo": {
     "elapsed": 33400,
     "status": "ok",
     "timestamp": 1595230945327,
     "user": {
      "displayName": "H V",
      "photoUrl": "",
      "userId": "04112076308917049663"
     },
     "user_tz": -120
    },
    "id": "Xu5Lh6MvjD23",
    "outputId": "b8781e6d-e8fe-49b3-b7f8-92d337181fe0"
   },
   "outputs": [
    {
     "name": "stdout",
     "output_type": "stream",
     "text": [
      "2.2.0\n"
     ]
    },
    {
     "name": "stderr",
     "output_type": "stream",
     "text": [
      "Using TensorFlow backend.\n",
      "'nvidia-smi' n'est pas reconnu en tant que commande interne\n",
      "ou externe, un programme ex‚cutable ou un fichier de commandes.\n"
     ]
    }
   ],
   "source": [
    "%matplotlib inline\n",
    "\n",
    "import matplotlib.pyplot as plt\n",
    "import numpy as np\n",
    "\n",
    "import tensorflow as tf\n",
    "from tensorflow.random import normal\n",
    "import tensorflow.keras as keras\n",
    "\n",
    "from tensorflow.keras import Model, layers\n",
    "from tensorflow.keras.datasets import mnist\n",
    "\n",
    "print(tf.__version__)\n",
    "\n",
    "# # DRIVE\n",
    "# from google.colab import drive\n",
    "# drive.mount('/content/gdrive')\n",
    "# import sys\n",
    "# sys.path.append('/content/gdrive/My Drive/BACMMAN_DISTNET/')\n",
    "\n",
    "from uad.callbacks.metrics import AUCCallback, PrecisionRecallCallback\n",
    "from uad.models.variational_autoencoder import ConvolutionalVAE\n",
    "from uad.decision.reconstruction import binarize_set\n",
    "from uad.diagnostic.visualisation import plot_tSNE\n",
    "from uad.diagnostic.metrics import compute_ROC, compute_AUC, plot_ROC\n",
    "\n",
    "!nvidia-smi"
   ]
  },
  {
   "cell_type": "markdown",
   "metadata": {
    "colab_type": "text",
    "id": "iklOGxdDjD3J"
   },
   "source": [
    "## Import data"
   ]
  },
  {
   "cell_type": "code",
   "execution_count": 6,
   "metadata": {
    "colab": {
     "base_uri": "https://localhost:8080/",
     "height": 72
    },
    "colab_type": "code",
    "executionInfo": {
     "elapsed": 2642,
     "status": "ok",
     "timestamp": 1595230950636,
     "user": {
      "displayName": "H V",
      "photoUrl": "",
      "userId": "04112076308917049663"
     },
     "user_tz": -120
    },
    "id": "2kcXZebljD3Q",
    "outputId": "d0ab8a0b-ce64-4f0b-9cad-81fa842b69df"
   },
   "outputs": [
    {
     "name": "stdout",
     "output_type": "stream",
     "text": [
      "(4825, 28, 28, 1) (4825,) (1000, 28, 28, 1) (1000,)\n"
     ]
    }
   ],
   "source": [
    "(x_train, y_train), (x_test, y_test) = tf.keras.datasets.mnist.load_data()\n",
    "\n",
    "x_train = np.expand_dims(x_train, -1).astype(\"float32\") / 255\n",
    "x_test = np.expand_dims(x_test, -1).astype(\"float32\") / 255\n",
    "\n",
    "interest_digit = 0\n",
    "\n",
    "# validation set\n",
    "x_val, y_val_bin = x_train[-1000:], binarize_set(y_train[-1000:], interest=interest_digit)\n",
    "\n",
    "# train set sorted by digits: digits_train[i] = x_train elements where y_train == i\n",
    "digits_train = np.array([x_train[np.where(y_train[:-1000] == i)] for i in range(10)])\n",
    "\n",
    "labels_bin = binarize_set(y_train, interest=interest_digit)\n",
    "x_train_bin, y_train_bin = digits_train[interest_digit][:-1000], y_train[np.where(y_train[:-1000] == interest_digit)][:-1000]\n",
    "y_test_bin = binarize_set(y_test, interest=interest_digit)\n",
    "\n",
    "print(x_train_bin.shape, y_train_bin.shape, x_val.shape, y_val_bin.shape)"
   ]
  },
  {
   "cell_type": "code",
   "execution_count": 24,
   "metadata": {},
   "outputs": [],
   "source": [
    "from tensorflow.python.keras.utils.data_utils import Sequence\n",
    "from tensorflow.keras.preprocessing.image import ImageDataGenerator\n",
    "from itertools import product\n",
    "\n",
    "def plot_images(images_arr):\n",
    "    fig, axes = plt.subplots(4, 5, figsize=(20,6))\n",
    "    axes = axes.flatten()\n",
    "    for img, ax in zip(images_arr, axes):\n",
    "        ax.imshow(np.squeeze(img, -1))\n",
    "        ax.axis('off')\n",
    "    plt.tight_layout()\n",
    "    plt.show()\n",
    "\n",
    "# renvoyer une image a la fois? Tout un batch?\n",
    "# Comment preciser exctement les trasnformations que je veux faire?\n",
    "# Comment appliquer chaque transformation individuellement?\n",
    "\n",
    "\n",
    "class MNISTSequence(Sequence):\n",
    "    def __init__(self, x_set, y_set, batch_size, augmentations):\n",
    "        self.x, self.y = x_set, y_set\n",
    "        self.batch_size = batch_size\n",
    "        self.augment = augmentations\n",
    "\n",
    "    def __len__(self):\n",
    "        return int(np.ceil(len(self.x) / float(self.batch_size)))\n",
    "\n",
    "    def __getitem__(self, idx):\n",
    "        batch_x = self.x[idx * self.batch_size:(idx + 1) * self.batch_size]\n",
    "        batch_y = self.y[idx * self.batch_size:(idx + 1) * self.batch_size]\n",
    "        \n",
    "        return np.stack([self.augment(image=x)[\"image\"] for x in batch_x], axis=0),\n",
    "               np.array(batch_y)\n",
    "        \n",
    "\n",
    "from albumentations import (\n",
    "    Compose, HorizontalFlip, CLAHE, HueSaturationValue,\n",
    "    RandomBrightness, RandomContrast, RandomGamma,\n",
    "    ToFloat, ShiftScaleRotate\n",
    ")\n",
    "\n",
    "AUGMENTATIONS_TRAIN = Compose([\n",
    "    HorizontalFlip(p=1),\n",
    "    ShiftScaleRotate(shift_limit=0.0625, scale_limit=0.1, rotate_limit=15, \n",
    "                     border_mode=cv2.BORDER_REFLECT_101, p=1.0),\n",
    "    p=1.0])"
   ]
  },
  {
   "cell_type": "code",
   "execution_count": 25,
   "metadata": {},
   "outputs": [
    {
     "data": {
      "image/png": "[encoded data removed]",
      "text/plain": [
       "<Figure size 1440x432 with 20 Axes>"
      ]
     },
     "metadata": {},
     "output_type": "display_data"
    }
   ],
   "source": [
    "image_generator = ImageDataGenerator(preprocessing_function=prepro)\n",
    "\n",
    "train_data_gen = image_generator.flow(x_train[:20], batch_size=64)\n",
    "\n",
    "augmented_images = [train_data_gen[0][0] for i in range(20)]\n",
    "plot_images(augmented_images)"
   ]
  },
  {
   "cell_type": "code",
   "execution_count": null,
   "metadata": {},
   "outputs": [],
   "source": []
  }
 ],
 "metadata": {
  "kernelspec": {
   "display_name": "Python 3",
   "language": "python",
   "name": "python3"
  },
  "language_info": {
   "codemirror_mode": {
    "name": "ipython",
    "version": 3
   },
   "file_extension": ".py",
   "mimetype": "text/x-python",
   "name": "python",
   "nbconvert_exporter": "python",
   "pygments_lexer": "ipython3",
   "version": "3.7.6"
  }
 },
 "nbformat": 4,
 "nbformat_minor": 4
}
