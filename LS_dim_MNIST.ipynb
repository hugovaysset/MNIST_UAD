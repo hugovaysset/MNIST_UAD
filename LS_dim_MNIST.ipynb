{
  "nbformat": 4,
  "nbformat_minor": 0,
  "metadata": {
    "kernelspec": {
      "display_name": "Python 3",
      "language": "python",
      "name": "python3"
    },
    "language_info": {
      "codemirror_mode": {
        "name": "ipython",
        "version": 3
      },
      "file_extension": ".py",
      "mimetype": "text/x-python",
      "name": "python",
      "nbconvert_exporter": "python",
      "pygments_lexer": "ipython3",
      "version": "3.7.6"
    },
    "colab": {
      "name": "LS_dim_MNIST.ipynb",
      "provenance": []
    },
    "accelerator": "GPU"
  },
  "cells": [
    {
      "cell_type": "markdown",
      "metadata": {
        "id": "diij-63NqXSa",
        "colab_type": "text"
      },
      "source": [
        "# Influence of the latent space dimension on the performances of VAE on MNIST\n",
        "\n",
        "Here we want to invesigate how the latent space distribution influences the ability of the VAE to build an efficient representation of the MNIST digits in order to improve its performances.\n",
        "\n",
        "Faire en sorte que l'étude soit très facile à mener, en réduisant le plus possible le code, et n'ayant besoin que de modifier un paramètre et de mesurer les performances. Faire un graphe avec abscisses : width (dimension sémantique) et ordonnée : autres dimensions (puisqu'on aura une matrice carrée à chaque fois) et tracer pour chaque couple la performance, qui doit être l'erreur de reconstruction moyenne sur le jeu de données de validation."
      ]
    },
    {
      "cell_type": "code",
      "metadata": {
        "id": "yW-Uq8dgqXSf",
        "colab_type": "code",
        "colab": {
          "base_uri": "https://localhost:8080/",
          "height": 409
        },
        "outputId": "5d186659-0c0c-4a35-9c57-0cf6f5373dc9"
      },
      "source": [
        "%matplotlib inline\n",
        "\n",
        "import matplotlib.pyplot as plt\n",
        "import numpy as np\n",
        "\n",
        "import tensorflow as tf\n",
        "from tensorflow.random import normal\n",
        "import tensorflow.keras as keras\n",
        "\n",
        "from tensorflow.keras import Model, Input, layers\n",
        "from tensorflow.keras.datasets import mnist\n",
        "\n",
        "print(tf.__version__)\n",
        "\n",
        "!nvidia-smi"
      ],
      "execution_count": 1,
      "outputs": [
        {
          "output_type": "stream",
          "text": [
            "2.2.0\n",
            "Thu Jul  2 17:53:06 2020       \n",
            "+-----------------------------------------------------------------------------+\n",
            "| NVIDIA-SMI 450.36.06    Driver Version: 418.67       CUDA Version: 10.1     |\n",
            "|-------------------------------+----------------------+----------------------+\n",
            "| GPU  Name        Persistence-M| Bus-Id        Disp.A | Volatile Uncorr. ECC |\n",
            "| Fan  Temp  Perf  Pwr:Usage/Cap|         Memory-Usage | GPU-Util  Compute M. |\n",
            "|                               |                      |               MIG M. |\n",
            "|===============================+======================+======================|\n",
            "|   0  Tesla K80           Off  | 00000000:00:04.0 Off |                    0 |\n",
            "| N/A   70C    P8    32W / 149W |      0MiB / 11441MiB |      0%      Default |\n",
            "|                               |                      |                 ERR! |\n",
            "+-------------------------------+----------------------+----------------------+\n",
            "                                                                               \n",
            "+-----------------------------------------------------------------------------+\n",
            "| Processes:                                                                  |\n",
            "|  GPU   GI   CI        PID   Type   Process name                  GPU Memory |\n",
            "|        ID   ID                                                   Usage      |\n",
            "|=============================================================================|\n",
            "|  No running processes found                                                 |\n",
            "+-----------------------------------------------------------------------------+\n"
          ],
          "name": "stdout"
        }
      ]
    },
    {
      "cell_type": "code",
      "metadata": {
        "id": "tXv90yxdqXS0",
        "colab_type": "code",
        "colab": {}
      },
      "source": [
        "(x_train, _), (x_test, _) = mnist.load_data()\n",
        "\n",
        "x_train = np.expand_dims(x_train, -1).astype(\"float32\") / 255 # add width axis\n",
        "x_test = np.expand_dims(x_test, -1).astype(\"float32\") / 255\n",
        "\n",
        "x_val = x_train[-10000]\n",
        "x_train = x_train[:-10000]"
      ],
      "execution_count": 7,
      "outputs": []
    },
    {
      "cell_type": "code",
      "metadata": {
        "id": "29yMYyt5qXTH",
        "colab_type": "code",
        "colab": {
          "base_uri": "https://localhost:8080/",
          "height": 36
        },
        "outputId": "99f517b4-48e0-46e3-b712-5c3dd318ead8"
      },
      "source": [
        "# mount google drive: follow the link, choose the account that contains the dataset and paste token in the displayed field\n",
        "from google.colab import drive\n",
        "import os\n",
        "import sys \n",
        "\n",
        "drive_folder = \"BACMMAN_DISTNET/UAD/MNIST/\"\n",
        "\n",
        "def mount_drive():\n",
        "  drive.mount('/content/driveDL', force_remount=True)\n",
        "  os.chdir(\"/content/driveDL/My Drive/\"+drive_folder)\n",
        "mount_drive()"
      ],
      "execution_count": 3,
      "outputs": [
        {
          "output_type": "stream",
          "text": [
            "Mounted at /content/driveDL\n"
          ],
          "name": "stdout"
        }
      ]
    },
    {
      "cell_type": "code",
      "metadata": {
        "id": "vilG1gcgqXTV",
        "colab_type": "code",
        "colab": {}
      },
      "source": [
        "from MNIST_anomalies import set_anomaly, predict_anomalies, contour_anomalies, plot_anomalies\n",
        "from MNIST_anomalies import plot_predictions\n",
        "from LS_dim_MNIST import Sampling, VAE"
      ],
      "execution_count": 4,
      "outputs": []
    },
    {
      "cell_type": "code",
      "metadata": {
        "id": "mc7wXKDSqXTu",
        "colab_type": "code",
        "colab": {
          "base_uri": "https://localhost:8080/",
          "height": 297
        },
        "outputId": "86b5fe82-01c7-44dd-c01d-7e4b7308b2ea"
      },
      "source": [
        "vae = VAE(latent_dim)\n",
        "vae.compile(optimizer=keras.optimizers.Adam())\n",
        "vae.fit(x_train, epochs=7, batch_size=128)"
      ],
      "execution_count": 6,
      "outputs": [
        {
          "output_type": "stream",
          "text": [
            "Epoch 1/7\n",
            "391/391 [==============================] - 9s 23ms/step - loss: 186.5994 - reconstruction_loss: 185.1889 - kl_loss: 1.4105\n",
            "Epoch 2/7\n",
            "391/391 [==============================] - 9s 22ms/step - loss: 99.2027 - reconstruction_loss: 96.5749 - kl_loss: 2.6278\n",
            "Epoch 3/7\n",
            "391/391 [==============================] - 9s 22ms/step - loss: 85.6965 - reconstruction_loss: 83.0151 - kl_loss: 2.6815\n",
            "Epoch 4/7\n",
            "391/391 [==============================] - 9s 23ms/step - loss: 80.2314 - reconstruction_loss: 77.5841 - kl_loss: 2.6473\n",
            "Epoch 5/7\n",
            "391/391 [==============================] - 9s 22ms/step - loss: 76.8316 - reconstruction_loss: 74.1956 - kl_loss: 2.6360\n",
            "Epoch 6/7\n",
            "391/391 [==============================] - 9s 22ms/step - loss: 74.2460 - reconstruction_loss: 71.5977 - kl_loss: 2.6483\n",
            "Epoch 7/7\n",
            "391/391 [==============================] - 9s 22ms/step - loss: 72.1478 - reconstruction_loss: 69.4948 - kl_loss: 2.6530\n"
          ],
          "name": "stdout"
        },
        {
          "output_type": "execute_result",
          "data": {
            "text/plain": [
              "<tensorflow.python.keras.callbacks.History at 0x7fd8fe614160>"
            ]
          },
          "metadata": {
            "tags": []
          },
          "execution_count": 6
        }
      ]
    },
    {
      "cell_type": "code",
      "metadata": {
        "id": "6NVPP4hjqXT8",
        "colab_type": "code",
        "colab": {}
      },
      "source": [
        "# %load_ext tensorboard\n",
        "# %tensorboard --logdir logs"
      ],
      "execution_count": null,
      "outputs": []
    },
    {
      "cell_type": "code",
      "metadata": {
        "id": "TWFpp7YxqXUG",
        "colab_type": "code",
        "colab": {
          "base_uri": "https://localhost:8080/",
          "height": 280
        },
        "outputId": "5300da4a-a2d0-4d26-8f40-ccf529c90ca0"
      },
      "source": [
        "# x_test = np.squeeze(x_test, axis=-1)\n",
        "# x_test = x_test * 255\n",
        "plot_predictions(vae, x_test, n=5, dims=(28, 28, 1))"
      ],
      "execution_count": 8,
      "outputs": [
        {
          "output_type": "display_data",
          "data": {
            "image/png": "[encoded data removed]",
            "text/plain": [
              "<Figure size 720x324 with 10 Axes>"
            ]
          },
          "metadata": {
            "tags": [],
            "needs_background": "light"
          }
        }
      ]
    },
    {
      "cell_type": "code",
      "metadata": {
        "id": "li96e_-FsEwl",
        "colab_type": "code",
        "colab": {}
      },
      "source": [
        ""
      ],
      "execution_count": null,
      "outputs": []
    }
  ]
}