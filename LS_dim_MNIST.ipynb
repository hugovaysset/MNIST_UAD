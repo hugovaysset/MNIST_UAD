{
 "cells": [
  {
   "cell_type": "markdown",
   "metadata": {},
   "source": [
    "# Influence of the latent space dimension on the performances of VAE on MNIST\n",
    "\n",
    "Here we want to invesigate how the latent space distribution influences the ability of the VAE to build an efficient representation of the MNIST digits in order to improve its performances.\n",
    "\n",
    "Faire en sorte que l'étude soit très facile à mener, en réduisant le plus possible le code, et n'ayant besoin que de modifier un paramètre et de mesurer les performances"
   ]
  },
  {
   "cell_type": "code",
   "execution_count": null,
   "metadata": {},
   "outputs": [],
   "source": [
    "%matplotlib inline\n",
    "\n",
    "import matplotlib.pyplot as plt\n",
    "import numpy as np\n",
    "\n",
    "import tensorflow as tf\n",
    "from tensorflow.random import normal\n",
    "import tensorflow.keras as keras\n",
    "\n",
    "from tensorflow.keras import Model, Input, layers\n",
    "from tensorflow.keras.datasets import mnist\n",
    "\n",
    "print(tf.__version__)\n",
    "\n",
    "# !nvidia-smi"
   ]
  },
  {
   "cell_type": "code",
   "execution_count": null,
   "metadata": {},
   "outputs": [],
   "source": [
    "(x_train, _), (x_test, _) = mnist.load_data()\n",
    "\n",
    "x_train = np.expand_dims(x_train, -1).astype(\"float32\") / 255 # add width axis\n",
    "x_test = np.expand_dims(x_train, -1).astype(\"float32\") / 255\n",
    "# x_train = x_train.reshape((len(x_train), np.prod(x_train.shape[1:])))\n",
    "# x_test = x_test.reshape((len(x_test), np.prod(x_test.shape[1:])))\n",
    "\n",
    "x_val = x_train[-10000]\n",
    "x_train = x_train[:-10000]"
   ]
  },
  {
   "cell_type": "code",
   "execution_count": null,
   "metadata": {},
   "outputs": [],
   "source": [
    "# mount google drive: follow the link, choose the account that contains the dataset and paste token in the displayed field\n",
    "from google.colab import drive\n",
    "import os\n",
    "import sys \n",
    "\n",
    "\n",
    "drive_folder = \"BACMMAN_DISTNET/UAD/MNIST/\"\n",
    "\n",
    "def mount_drive():\n",
    "  drive.mount('/content/driveDL', force_remount=True)\n",
    "  os.chdir(\"/content/driveDL/My Drive/\"+drive_folder)\n",
    "mount_drive()"
   ]
  },
  {
   "cell_type": "code",
   "execution_count": null,
   "metadata": {},
   "outputs": [],
   "source": [
    "from MNIST_anomalies import set_anomaly, predict_anomalies, contour_anomalies, plot_anomalies\n",
    "from MNIST_anomalies import plot_predictions\n",
    "from LS_dim_MNIST import Sampling, VAE"
   ]
  },
  {
   "cell_type": "code",
   "execution_count": null,
   "metadata": {},
   "outputs": [],
   "source": [
    "latent_dim = 16\n",
    "\n",
    "vae = VAE(latent_dim=latent_dim)"
   ]
  },
  {
   "cell_type": "code",
   "execution_count": null,
   "metadata": {},
   "outputs": [],
   "source": [
    "vae.compile(optimizer=keras.optimizers.Adam())\n",
    "vae.fit(x_train, epochs=7, batch_size=128)"
   ]
  },
  {
   "cell_type": "code",
   "execution_count": null,
   "metadata": {},
   "outputs": [],
   "source": [
    "%load_ext tensorboard\n",
    "%tensorboard --logdir logs"
   ]
  },
  {
   "cell_type": "code",
   "execution_count": null,
   "metadata": {},
   "outputs": [],
   "source": []
  }
 ],
 "metadata": {
  "kernelspec": {
   "display_name": "Python 3",
   "language": "python",
   "name": "python3"
  },
  "language_info": {
   "codemirror_mode": {
    "name": "ipython",
    "version": 3
   },
   "file_extension": ".py",
   "mimetype": "text/x-python",
   "name": "python",
   "nbconvert_exporter": "python",
   "pygments_lexer": "ipython3",
   "version": "3.7.6"
  }
 },
 "nbformat": 4,
 "nbformat_minor": 4
}
