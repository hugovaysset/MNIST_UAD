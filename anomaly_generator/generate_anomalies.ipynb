{
 "cells": [
  {
   "cell_type": "markdown",
   "metadata": {},
   "source": [
    "# Generate more complex anomalies\n",
    "\n",
    "Anomalies generated have now:\n",
    "- random size (between 2 and 5)\n",
    "- random shape (either line, square or circle)\n",
    "- random place in the image"
   ]
  },
  {
   "cell_type": "code",
   "execution_count": null,
   "metadata": {},
   "outputs": [],
   "source": [
    "%matplotlib inline\n",
    "\n",
    "import matplotlib.pyplot as plt\n",
    "import numpy as np\n",
    "\n",
    "import tensorflow as tf\n",
    "from tensorflow.random import normal\n",
    "import tensorflow.keras as keras\n",
    "\n",
    "from tensorflow.keras import Model, layers\n",
    "from tensorflow.keras.datasets import mnist\n",
    "\n",
    "from MNIST_anomalies import get_rm, contour_anomalies, plot_anomalies\n",
    "from MNIST_anomalies import plot_predictions"
   ]
  },
  {
   "cell_type": "code",
   "execution_count": 2,
   "metadata": {},
   "outputs": [
    {
     "name": "stdout",
     "output_type": "stream",
     "text": [
      "(60000, 28, 28, 1)\n",
      "(10000, 28, 28, 1)\n"
     ]
    }
   ],
   "source": [
    "(x_train, _), (x_test, _) = mnist.load_data()\n",
    "\n",
    "x_train = np.expand_dims(x_train, -1).astype('float32') / 255.0\n",
    "x_test = np.expand_dims(x_test, -1).astype('float32') / 255.0\n",
    "    \n",
    "print(x_train.shape)\n",
    "print(x_test.shape)"
   ]
  },
  {
   "cell_type": "code",
   "execution_count": 3,
   "metadata": {},
   "outputs": [],
   "source": [
    "vae = tf.keras.models.load_model(\"UNet_model.pb\")"
   ]
  },
  {
   "cell_type": "code",
   "execution_count": 35,
   "metadata": {},
   "outputs": [],
   "source": [
    "def set_anomaly(img, an_type=\"l\", an_size=3, s=0):\n",
    "    \"\"\"\n",
    "    Set a \"draw line\" anomaly on the given image\n",
    "    an_type: \"l\": line, \"c\": circle, \"s\": square\n",
    "    an_size: size of anomaly\n",
    "    s: random seed\n",
    "    \"\"\"\n",
    "    np.random.seed(s)\n",
    "    square_shape = 28\n",
    "\n",
    "    if img.shape == (square_shape ** 2,):  # flat format\n",
    "        img = img.reshape((28, 28))\n",
    "        \n",
    "    if img.shape == (28, 28, 1):\n",
    "        img = np.squeeze(img, axis=-1)\n",
    "        \n",
    "    modif_img = np.array(img)\n",
    "        \n",
    "    x, y = np.random.randint(0, square_shape, size=2)\n",
    "    \n",
    "    if an_type == \"l\":\n",
    "        for i in range(an_size - 1):\n",
    "            if x + i < square_shape and y + i + 1 < square_shape:\n",
    "                modif_img[x + i, y + i] = .99\n",
    "                modif_img[x + i, y + i + 1] = .5\n",
    "                modif_img[x + i, y + i - 1] = .5\n",
    "\n",
    "            if x - i >= 0 and y - i - 1 >= 0 and y - i + 1 < 28:\n",
    "                modif_img[x - i, y - i] = .99\n",
    "                modif_img[x - i, y - i + 1] = .5\n",
    "                modif_img[x - i, y - i - 1] = .5\n",
    "                \n",
    "    if an_type == \"c\":\n",
    "        for i in range(an_size):\n",
    "            for j in range(an_size):\n",
    "                if np.sqrt(i**2 + j**2) <= an_size:\n",
    "                    if x + i < square_shape and y + j < square_shape:\n",
    "                        modif_img[x + i, y + j] = 0.99\n",
    "                    if x - i >= 0 and y + j < square_shape:\n",
    "                        modif_img[x - i, y + j] = 0.99\n",
    "                    if x + i < square_shape and y - j >= 0:\n",
    "                        modif_img[x + i, y - j] = 0.99\n",
    "                    if x - i >= 0 and y - j >= 0:\n",
    "                        modif_img[x - i, y - j] = 0.99\n",
    "                        \n",
    "    if an_type == \"s\":\n",
    "        for i in range(an_size // 2):\n",
    "            for j in range(an_size // 2):\n",
    "                    if x + i < square_shape and y + j < square_shape:\n",
    "                        modif_img[x + i, y + j] = 0.99\n",
    "                    if x - i >= 0 and y + j < square_shape:\n",
    "                        modif_img[x - i, y + j] = 0.99\n",
    "                    if x + i < square_shape and y - j >= 0:\n",
    "                        modif_img[x + i, y - j] = 0.99\n",
    "                    if x - i >= 0 and y - j >= 0:\n",
    "                        modif_img[x - i, y - j] = 0.99\n",
    "\n",
    "    return modif_img\n",
    "\n",
    "\n",
    "def predict_anomalies(model, ref, dims=(28, 28, 1)):\n",
    "    \"\"\"\n",
    "    Make model predictions on reference and reference + anomalies\n",
    "    tensor (bool): True if the model takes as inputs a rank-3 tensor (28, 28, 1)\n",
    "    \"\"\"\n",
    "    anom_types = [\"l\", \"s\", \"c\"]\n",
    "    anom_sizes = [2, 3, 4, 5]\n",
    "        \n",
    "    predictions = model.predict(ref)\n",
    "    \n",
    "    l = []\n",
    "    for i, x in enumerate(x_test):\n",
    "        np.random.seed(i)\n",
    "        t, size = np.random.choice(anom_types), np.random.choice(anom_sizes)\n",
    "        anom = set_anomaly(x, an_type=t, an_size=size, s=i)\n",
    "        l.append(anom)\n",
    "    anomalies = np.array(l)    \n",
    "    \n",
    "    anomalies_pred = model.predict(np.expand_dims(anomalies, axis=-1))\n",
    "\n",
    "    if dims == (28, 28, 1):\n",
    "        predictions = np.squeeze(predictions, axis=-1)\n",
    "        anomalies_pred = np.squeeze(anomalies_pred, axis=-1)\n",
    "\n",
    "    return predictions, anomalies, anomalies_pred"
   ]
  },
  {
   "cell_type": "code",
   "execution_count": 36,
   "metadata": {},
   "outputs": [
    {
     "name": "stdout",
     "output_type": "stream",
     "text": [
      "(10000, 28, 28)\n",
      "(10000, 28, 28, 1)\n",
      "(10000, 28, 28)\n",
      "(10000, 28, 28)\n"
     ]
    }
   ],
   "source": [
    "predictions, anomalies, anomalies_pred = predict_anomalies(vae, x_test)\n",
    "\n",
    "print(predictions.shape)\n",
    "print(x_test.shape)\n",
    "print(anomalies.shape)\n",
    "print(anomalies_pred.shape)\n",
    "\n",
    "if x_test.shape == (x_test.shape[0], 28, 28, 1):\n",
    "    x_test = np.squeeze(x_test, axis=-1)\n",
    "\n",
    "np.save(\"test_set\", x_test)\n",
    "np.save(\"predictions_on_test_set\", predictions)\n",
    "np.save(\"anomalies\", anomalies)\n",
    "np.save(\"predictions_on_anomalies\", anomalies_pred)"
   ]
  },
  {
   "cell_type": "code",
   "execution_count": null,
   "metadata": {},
   "outputs": [],
   "source": []
  }
 ],
 "metadata": {
  "kernelspec": {
   "display_name": "Python 3",
   "language": "python",
   "name": "python3"
  },
  "language_info": {
   "codemirror_mode": {
    "name": "ipython",
    "version": 3
   },
   "file_extension": ".py",
   "mimetype": "text/x-python",
   "name": "python",
   "nbconvert_exporter": "python",
   "pygments_lexer": "ipython3",
   "version": "3.7.6"
  }
 },
 "nbformat": 4,
 "nbformat_minor": 4
}
