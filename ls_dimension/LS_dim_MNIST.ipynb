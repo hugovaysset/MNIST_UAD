{
 "cells": [
  {
   "cell_type": "markdown",
   "metadata": {
    "colab_type": "text",
    "id": "diij-63NqXSa"
   },
   "source": [
    "# Influence of the latent space dimension on the performances of VAE on MNIST\n",
    "\n",
    "*AIM*: To invesigate how the *latent space distribution* influences the VAE performances (i.e. its ability to build an efficient representation of the MNIST digits).\n",
    "\n",
    "*MATERIAL & METHOD*: We work on the MNIST digits. The model is trained on 48,000 examples during five epochs ; the only parameter that varies between experiences is the latent space dimension : $d \\in \\{1, 2, 4, 8, 16, 20, 24, 32, 64, 128\\}$. We measure the performance of each model as the mean reconstruction loss (L2) between the inputs $(x_i)_{i \\in [1, n]}$ and the outputs $(\\hat{x}_i)_{i \\in [1, n]}$ after the last epoch of training. This measure is made on the validation dataset (12,000 examples) which were not seen during training.\n",
    "Since there is some variability during the training of the model, we repeat the measure three times for each latent dimension value.\n",
    "\n",
    "*DISCUSSION*: when we vary the latent space dimension, in fact the total number of parameters also varies and we couldn't attribute a better performance to a higher latent space dimension or to a larger number of parameters. It's hard to disentangle both effects."
   ]
  },
  {
   "cell_type": "code",
   "execution_count": 2,
   "metadata": {
    "colab": {
     "base_uri": "https://localhost:8080/",
     "height": 409
    },
    "colab_type": "code",
    "id": "yW-Uq8dgqXSf",
    "outputId": "5d186659-0c0c-4a35-9c57-0cf6f5373dc9"
   },
   "outputs": [
    {
     "name": "stdout",
     "output_type": "stream",
     "text": [
      "2.2.0\n"
     ]
    }
   ],
   "source": [
    "%matplotlib inline\n",
    "\n",
    "import matplotlib.pyplot as plt\n",
    "import numpy as np\n",
    "\n",
    "import tensorflow as tf\n",
    "from tensorflow.random import normal\n",
    "import tensorflow.keras as keras\n",
    "\n",
    "from tensorflow.keras import Model, Input, layers\n",
    "from tensorflow.keras.datasets import mnist\n",
    "\n",
    "print(tf.__version__)\n",
    "\n",
    "# !nvidia-smi"
   ]
  },
  {
   "cell_type": "code",
   "execution_count": 3,
   "metadata": {
    "colab": {},
    "colab_type": "code",
    "id": "tXv90yxdqXS0"
   },
   "outputs": [],
   "source": [
    "(x_train, _), (x_test, _) = mnist.load_data()\n",
    "\n",
    "x_train = np.expand_dims(x_train, -1).astype(\"float32\") / 255 # add width axis\n",
    "x_test = np.expand_dims(x_test, -1).astype(\"float32\") / 255"
   ]
  },
  {
   "cell_type": "code",
   "execution_count": 4,
   "metadata": {
    "colab": {},
    "colab_type": "code",
    "id": "vilG1gcgqXTV"
   },
   "outputs": [],
   "source": [
    "from MNIST_anomalies import set_anomaly, predict_anomalies, contour_anomalies, plot_anomalies\n",
    "from MNIST_anomalies import plot_predictions\n",
    "from LS_dim_MNIST import Sampling, VAE"
   ]
  },
  {
   "cell_type": "code",
   "execution_count": 6,
   "metadata": {
    "colab": {
     "base_uri": "https://localhost:8080/",
     "height": 280
    },
    "colab_type": "code",
    "id": "TWFpp7YxqXUG",
    "outputId": "5300da4a-a2d0-4d26-8f40-ccf529c90ca0"
   },
   "outputs": [
    {
     "name": "stdout",
     "output_type": "stream",
     "text": [
      "Iteration 0/9 --> dim == 1\n",
      "VAE latent dim : 1\n",
      "Epoch 1/5\n",
      "375/375 [==============================] - 90s 239ms/step - loss: 225.8920 - reconstruction_loss: 223.9613 - kl_loss: 1.9307 - val_reconstruction_loss: 159.6226\n",
      "Epoch 2/5\n",
      "375/375 [==============================] - 93s 249ms/step - loss: 143.3336 - reconstruction_loss: 140.1418 - kl_loss: 3.1918 - val_reconstruction_loss: 134.0337\n",
      "Epoch 3/5\n",
      "375/375 [==============================] - 93s 249ms/step - loss: 121.4381 - reconstruction_loss: 117.8356 - kl_loss: 3.6025 - val_reconstruction_loss: 117.8155\n",
      "Epoch 4/5\n",
      "375/375 [==============================] - 94s 249ms/step - loss: 111.8350 - reconstruction_loss: 108.0485 - kl_loss: 3.7865 - val_reconstruction_loss: 111.8402\n",
      "Epoch 5/5\n",
      "375/375 [==============================] - 95s 254ms/step - loss: 106.8636 - reconstruction_loss: 102.9881 - kl_loss: 3.8755 - val_reconstruction_loss: 106.0465\n",
      "Iteration 1/9 --> dim == 2\n",
      "VAE latent dim : 2\n",
      "Epoch 1/5\n",
      "375/375 [==============================] - 94s 250ms/step - loss: 194.9719 - reconstruction_loss: 192.8794 - kl_loss: 2.0926 - val_reconstruction_loss: 124.8830\n",
      "Epoch 2/5\n",
      "375/375 [==============================] - 94s 250ms/step - loss: 108.8950 - reconstruction_loss: 105.3941 - kl_loss: 3.5009 - val_reconstruction_loss: 102.1601\n",
      "Epoch 3/5\n",
      "375/375 [==============================] - 92s 246ms/step - loss: 97.1319 - reconstruction_loss: 93.4476 - kl_loss: 3.6843 - val_reconstruction_loss: 94.3656\n",
      "Epoch 4/5\n",
      "375/375 [==============================] - 93s 248ms/step - loss: 91.3226 - reconstruction_loss: 87.5734 - kl_loss: 3.7491 - val_reconstruction_loss: 88.7056\n",
      "Epoch 5/5\n",
      "375/375 [==============================] - 101s 269ms/step - loss: 87.3912 - reconstruction_loss: 83.5968 - kl_loss: 3.7944 - val_reconstruction_loss: 84.7251\n",
      "Iteration 2/9 --> dim == 4\n",
      "VAE latent dim : 4\n",
      "Epoch 1/5\n",
      "375/375 [==============================] - 98s 262ms/step - loss: 198.6718 - reconstruction_loss: 197.0028 - kl_loss: 1.6690 - val_reconstruction_loss: 130.6151\n",
      "Epoch 2/5\n",
      "375/375 [==============================] - 94s 251ms/step - loss: 108.7382 - reconstruction_loss: 106.0568 - kl_loss: 2.6814 - val_reconstruction_loss: 101.1738\n",
      "Epoch 3/5\n",
      "375/375 [==============================] - 95s 252ms/step - loss: 92.3355 - reconstruction_loss: 89.4878 - kl_loss: 2.8477 - val_reconstruction_loss: 96.7298\n",
      "Epoch 4/5\n",
      "375/375 [==============================] - 98s 260ms/step - loss: 85.5879 - reconstruction_loss: 82.6882 - kl_loss: 2.8997 - val_reconstruction_loss: 85.7004\n",
      "Epoch 5/5\n",
      "375/375 [==============================] - 92s 245ms/step - loss: 81.5852 - reconstruction_loss: 78.6534 - kl_loss: 2.9317 - val_reconstruction_loss: 81.8780\n",
      "Iteration 3/9 --> dim == 8\n",
      "VAE latent dim : 8\n",
      "Epoch 1/5\n",
      "375/375 [==============================] - 92s 246ms/step - loss: 194.2836 - reconstruction_loss: 192.5212 - kl_loss: 1.7624 - val_reconstruction_loss: 119.3438\n",
      "Epoch 2/5\n",
      "375/375 [==============================] - 92s 245ms/step - loss: 97.5880 - reconstruction_loss: 94.5412 - kl_loss: 3.0468 - val_reconstruction_loss: 89.4549\n",
      "Epoch 3/5\n",
      "375/375 [==============================] - 91s 244ms/step - loss: 83.8919 - reconstruction_loss: 80.6708 - kl_loss: 3.2210 - val_reconstruction_loss: 80.6515\n",
      "Epoch 4/5\n",
      "375/375 [==============================] - 93s 249ms/step - loss: 77.9179 - reconstruction_loss: 74.6358 - kl_loss: 3.2821 - val_reconstruction_loss: 75.5775\n",
      "Epoch 5/5\n",
      "375/375 [==============================] - 97s 259ms/step - loss: 73.9628 - reconstruction_loss: 70.6458 - kl_loss: 3.3170 - val_reconstruction_loss: 73.1980\n",
      "Iteration 4/9 --> dim == 16\n",
      "VAE latent dim : 16\n",
      "Epoch 1/5\n",
      "375/375 [==============================] - 98s 261ms/step - loss: 171.4474 - reconstruction_loss: 169.7038 - kl_loss: 1.7435 - val_reconstruction_loss: 106.0896\n",
      "Epoch 2/5\n",
      "375/375 [==============================] - 100s 266ms/step - loss: 92.1151 - reconstruction_loss: 89.1327 - kl_loss: 2.9825 - val_reconstruction_loss: 87.2057\n",
      "Epoch 3/5\n",
      "375/375 [==============================] - 101s 268ms/step - loss: 80.6888 - reconstruction_loss: 77.5200 - kl_loss: 3.1688 - val_reconstruction_loss: 78.2636\n",
      "Epoch 4/5\n",
      "375/375 [==============================] - 101s 268ms/step - loss: 75.9133 - reconstruction_loss: 72.6958 - kl_loss: 3.2175 - val_reconstruction_loss: 75.1474\n",
      "Epoch 5/5\n",
      "375/375 [==============================] - 104s 277ms/step - loss: 73.0751 - reconstruction_loss: 69.8469 - kl_loss: 3.2282 - val_reconstruction_loss: 72.5983\n",
      "Iteration 5/9 --> dim == 20\n",
      "VAE latent dim : 20\n",
      "Epoch 1/5\n",
      "375/375 [==============================] - 93s 249ms/step - loss: 178.6363 - reconstruction_loss: 177.0069 - kl_loss: 1.6294 - val_reconstruction_loss: 121.2856\n",
      "Epoch 2/5\n",
      "375/375 [==============================] - 93s 249ms/step - loss: 95.3608 - reconstruction_loss: 92.6104 - kl_loss: 2.7504 - val_reconstruction_loss: 88.2598\n",
      "Epoch 3/5\n",
      "375/375 [==============================] - 94s 250ms/step - loss: 82.8465 - reconstruction_loss: 79.9352 - kl_loss: 2.9112 - val_reconstruction_loss: 80.9977\n",
      "Epoch 4/5\n",
      "375/375 [==============================] - 94s 250ms/step - loss: 77.6821 - reconstruction_loss: 74.7459 - kl_loss: 2.9362 - val_reconstruction_loss: 76.8363\n",
      "Epoch 5/5\n",
      "375/375 [==============================] - 95s 253ms/step - loss: 74.4830 - reconstruction_loss: 71.5482 - kl_loss: 2.9348 - val_reconstruction_loss: 75.5963\n",
      "Iteration 6/9 --> dim == 24\n",
      "VAE latent dim : 24\n",
      "Epoch 1/5\n",
      "375/375 [==============================] - 96s 255ms/step - loss: 186.2200 - reconstruction_loss: 184.7537 - kl_loss: 1.4664 - val_reconstruction_loss: 118.1759\n",
      "Epoch 2/5\n",
      "375/375 [==============================] - 98s 262ms/step - loss: 100.8326 - reconstruction_loss: 98.0863 - kl_loss: 2.7463 - val_reconstruction_loss: 91.3826\n",
      "Epoch 3/5\n",
      "375/375 [==============================] - 96s 256ms/step - loss: 86.9647 - reconstruction_loss: 84.0350 - kl_loss: 2.9298 - val_reconstruction_loss: 84.8011\n",
      "Epoch 4/5\n",
      "375/375 [==============================] - 96s 256ms/step - loss: 81.3686 - reconstruction_loss: 78.4143 - kl_loss: 2.9543 - val_reconstruction_loss: 80.0044\n",
      "Epoch 5/5\n",
      "375/375 [==============================] - 96s 257ms/step - loss: 77.8588 - reconstruction_loss: 74.9029 - kl_loss: 2.9559 - val_reconstruction_loss: 76.7510\n",
      "Iteration 7/9 --> dim == 32\n",
      "VAE latent dim : 32\n",
      "Epoch 1/5\n",
      "375/375 [==============================] - 93s 249ms/step - loss: 196.4399 - reconstruction_loss: 195.0861 - kl_loss: 1.3538 - val_reconstruction_loss: 123.8854\n",
      "Epoch 2/5\n",
      "375/375 [==============================] - 92s 244ms/step - loss: 100.0182 - reconstruction_loss: 97.3697 - kl_loss: 2.6485 - val_reconstruction_loss: 89.2666\n",
      "Epoch 3/5\n",
      "375/375 [==============================] - 91s 242ms/step - loss: 84.1110 - reconstruction_loss: 81.2773 - kl_loss: 2.8337 - val_reconstruction_loss: 82.3718\n",
      "Epoch 4/5\n",
      "375/375 [==============================] - 96s 255ms/step - loss: 78.6755 - reconstruction_loss: 75.8603 - kl_loss: 2.8152 - val_reconstruction_loss: 78.4796\n",
      "Epoch 5/5\n",
      "375/375 [==============================] - 92s 246ms/step - loss: 75.2826 - reconstruction_loss: 72.4753 - kl_loss: 2.8072 - val_reconstruction_loss: 75.0617\n",
      "Iteration 8/9 --> dim == 64\n",
      "VAE latent dim : 64\n",
      "Epoch 1/5\n",
      "375/375 [==============================] - 94s 251ms/step - loss: 192.9046 - reconstruction_loss: 191.5866 - kl_loss: 1.3179 - val_reconstruction_loss: 117.0699\n",
      "Epoch 2/5\n",
      "375/375 [==============================] - 96s 255ms/step - loss: 99.4454 - reconstruction_loss: 96.9626 - kl_loss: 2.4828 - val_reconstruction_loss: 91.5709\n",
      "Epoch 3/5\n",
      "375/375 [==============================] - 100s 265ms/step - loss: 85.7799 - reconstruction_loss: 83.1746 - kl_loss: 2.6053 - val_reconstruction_loss: 82.3447\n",
      "Epoch 4/5\n",
      "375/375 [==============================] - 97s 259ms/step - loss: 79.8143 - reconstruction_loss: 77.1902 - kl_loss: 2.6242 - val_reconstruction_loss: 79.1165\n",
      "Epoch 5/5\n",
      "375/375 [==============================] - 92s 246ms/step - loss: 76.2594 - reconstruction_loss: 73.6432 - kl_loss: 2.6163 - val_reconstruction_loss: 75.6783\n",
      "Iteration 9/9 --> dim == 128\n",
      "VAE latent dim : 128\n",
      "Epoch 1/5\n",
      "375/375 [==============================] - 98s 262ms/step - loss: 191.0629 - reconstruction_loss: 189.8443 - kl_loss: 1.2186 - val_reconstruction_loss: 125.3401\n",
      "Epoch 2/5\n",
      "375/375 [==============================] - 100s 267ms/step - loss: 103.3255 - reconstruction_loss: 100.8300 - kl_loss: 2.4955 - val_reconstruction_loss: 94.0613\n",
      "Epoch 3/5\n",
      "375/375 [==============================] - 131s 349ms/step - loss: 87.1089 - reconstruction_loss: 84.4625 - kl_loss: 2.6464 - val_reconstruction_loss: 87.1949\n",
      "Epoch 4/5\n",
      "375/375 [==============================] - 128s 341ms/step - loss: 80.3396 - reconstruction_loss: 77.7099 - kl_loss: 2.6297 - val_reconstruction_loss: 80.3721\n",
      "Epoch 5/5\n",
      "375/375 [==============================] - 130s 347ms/step - loss: 76.1224 - reconstruction_loss: 73.4859 - kl_loss: 2.6365 - val_reconstruction_loss: 75.8204\n"
     ]
    }
   ],
   "source": [
    "# dims = [1, 2, 4, 8, 16, 20, 24, 32, 64, 128]\n",
    "# files = [\"LS_dim_losses\", \"LS_dim_losses1\", \"LS_dim_losses2\"]\n",
    "\n",
    "# for k in range(4):\n",
    "#     l = []\n",
    "#     for i, dim in enumerate(dims):\n",
    "#         print(f\"Iteration {i}/{len(dims) - 1} --> dim == {dim}\")\n",
    "#         vae = VAE(dim)\n",
    "#         print(f\"VAE latent dim : {vae.latent_dim}\")\n",
    "#         vae.compile(optimizer=keras.optimizers.Adam())\n",
    "#         history = vae.fit(x_train, epochs=5, batch_size=128, validation_split=0.2)\n",
    "#         l.append(history.history[\"val_reconstruction_loss\"][-1])    \n",
    "#     ar = np.array(l)\n",
    "#     np.save(files[k], ar)"
   ]
  },
  {
   "cell_type": "code",
   "execution_count": 22,
   "metadata": {
    "colab": {},
    "colab_type": "code",
    "id": "li96e_-FsEwl"
   },
   "outputs": [
    {
     "name": "stdout",
     "output_type": "stream",
     "text": [
      "[[101.8556366   84.72505951  76.0213623   73.19802094  72.59825897\n",
      "   74.57502747  73.51979828  72.84089661  75.50950623  74.68331909]\n",
      " [106.04647064  88.00610352  81.87802887  76.50286102  74.72039795\n",
      "   75.59632111  82.37017059  75.06172943  80.10916138  75.82035065]]\n"
     ]
    },
    {
     "name": "stderr",
     "output_type": "stream",
     "text": [
      "C:\\Users\\Hugo\\anaconda3\\lib\\site-packages\\ipykernel_launcher.py:19: UserWarning: Matplotlib is currently using module://ipykernel.pylab.backend_inline, which is a non-GUI backend, so cannot show the figure.\n"
     ]
    },
    {
     "data": {
      "image/png": "[encoded data removed]",
      "text/plain": [
       "<Figure size 576x432 with 1 Axes>"
      ]
     },
     "metadata": {
      "needs_background": "light"
     },
     "output_type": "display_data"
    }
   ],
   "source": [
    "dims = [1, 2, 4, 8, 16, 20, 24, 32, 64, 128]\n",
    "\n",
    "a1, a2, a3 = np.load(\"LS_dim_losses.npy\"), np.load(\"LS_dim_losses1.npy\"), np.load(\"LS_dim_losses2.npy\")\n",
    "\n",
    "losses = np.array([[xi for xi in a1], [xi for xi in a2], [xi for xi in a3]])\n",
    "means = np.mean(losses, axis=0)\n",
    "bounds = np.array([np.min(losses, axis=0), np.max(losses, axis=0)])\n",
    "\n",
    "print(bounds)\n",
    "\n",
    "fig, ax = plt.subplots(1, 1, figsize=(8, 6))\n",
    "ax.plot(dims, means, \".\", c=\"orange\", label=\"mean loss\")\n",
    "ax.fill_between(dims, bounds[0], bounds[1], color=\"lightgrey\", label=\"min-max losses area\")\n",
    "\n",
    "ax.set_xlabel(\"Latent space dimension (# filters of z_mean and z_log_var)\")\n",
    "ax.set_ylabel(\"Reconstruction loss\")\n",
    "ax.legend()\n",
    "fig.suptitle(\"Mean L2 loss on validation set after last epoch\")\n",
    "fig.show()"
   ]
  },
  {
   "cell_type": "markdown",
   "metadata": {},
   "source": [
    "*RESULTS*: We see here that the latent space dimension has a positive effect on the model's performance. However, over some threshold (between 8 and 20), it doesn't improve the performances anymore, maybe has opposite effects. Maybe the degraded performances are due to too much parameters in the models with high latent dimensions.\n",
    "\n",
    "*CONCLUSION*: We conclude here that the latent space dimension has to be over some optimal value (intuitively to encode/embed all the diversity of MNIST digits with as less ambiguity as possible). Over this optimum, increasing the latent dimension has no benefits and the consequent increase in the number of parameters p "
   ]
  }
 ],
 "metadata": {
  "accelerator": "GPU",
  "colab": {
   "name": "LS_dim_MNIST.ipynb",
   "provenance": []
  },
  "kernelspec": {
   "display_name": "Python 3",
   "language": "python",
   "name": "python3"
  },
  "language_info": {
   "codemirror_mode": {
    "name": "ipython",
    "version": 3
   },
   "file_extension": ".py",
   "mimetype": "text/x-python",
   "name": "python",
   "nbconvert_exporter": "python",
   "pygments_lexer": "ipython3",
   "version": "3.7.6"
  }
 },
 "nbformat": 4,
 "nbformat_minor": 4
}
