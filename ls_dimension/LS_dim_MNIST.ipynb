{
 "cells": [
  {
   "cell_type": "markdown",
   "metadata": {
    "colab_type": "text",
    "id": "diij-63NqXSa"
   },
   "source": [
    "# Influence of the latent space dimension on the performances of VAE on MNIST\n",
    "\n",
    "*AIM*: To invesigate how the *latent space distribution* influences the VAE performances (i.e. its ability to build an efficient representation of the MNIST digits).\n",
    "\n",
    "*MATERIAL & METHOD*: We work on the MNIST digits. The model is trained on 48,000 examples during five epochs ; the only parameter that varies between experiences is the latent space dimension : $d \\in \\{1, 2, 4, 8, 16, 20, 24, 32, 64, 128\\}$. We measure the performance of each model as the mean reconstruction loss (L2) between the inputs $(x_i)_{i \\in [1, n]}$ and the outputs $(\\hat{x}_i)_{i \\in [1, n]}$ after the last epoch of training. This measure is made on the validation dataset (12,000 examples) which were not seen during training.\n",
    "Since there is some variability during the training of the model, we repeat the measure three times for each latent dimension value.\n",
    "\n",
    "*DISCUSSION*: when we vary the latent space dimension, in fact the total number of parameters also varies and we couldn't attribute a better performance to a higher latent space dimension or to a larger number of parameters. It's hard to disentangle both effects."
   ]
  },
  {
   "cell_type": "code",
   "execution_count": 1,
   "metadata": {
    "colab": {
     "base_uri": "https://localhost:8080/",
     "height": 409
    },
    "colab_type": "code",
    "id": "yW-Uq8dgqXSf",
    "outputId": "5d186659-0c0c-4a35-9c57-0cf6f5373dc9"
   },
   "outputs": [
    {
     "name": "stdout",
     "output_type": "stream",
     "text": [
      "2.2.0\n"
     ]
    }
   ],
   "source": [
    "%matplotlib inline\n",
    "\n",
    "import matplotlib.pyplot as plt\n",
    "import numpy as np\n",
    "\n",
    "import tensorflow as tf\n",
    "from tensorflow.random import normal\n",
    "import tensorflow.keras as keras\n",
    "\n",
    "from tensorflow.keras import Model, Input, layers\n",
    "from tensorflow.keras.datasets import mnist\n",
    "\n",
    "print(tf.__version__)\n",
    "\n",
    "# !nvidia-smi"
   ]
  },
  {
   "cell_type": "code",
   "execution_count": 2,
   "metadata": {
    "colab": {},
    "colab_type": "code",
    "id": "tXv90yxdqXS0"
   },
   "outputs": [],
   "source": [
    "(x_train, _), (x_test, _) = mnist.load_data()\n",
    "\n",
    "x_train = np.expand_dims(x_train, -1).astype(\"float32\") / 255 # add width axis\n",
    "x_test = np.expand_dims(x_test, -1).astype(\"float32\") / 255"
   ]
  },
  {
   "cell_type": "code",
   "execution_count": 3,
   "metadata": {
    "colab": {},
    "colab_type": "code",
    "id": "vilG1gcgqXTV"
   },
   "outputs": [],
   "source": [
    "from MNIST_anomalies import set_anomaly, predict_anomalies, contour_anomalies, plot_anomalies\n",
    "from MNIST_anomalies import plot_predictions\n",
    "from LS_dim_MNIST import Sampling, VAE"
   ]
  },
  {
   "cell_type": "code",
   "execution_count": 4,
   "metadata": {
    "colab": {
     "base_uri": "https://localhost:8080/",
     "height": 280
    },
    "colab_type": "code",
    "id": "TWFpp7YxqXUG",
    "outputId": "5300da4a-a2d0-4d26-8f40-ccf529c90ca0"
   },
   "outputs": [
    {
     "name": "stdout",
     "output_type": "stream",
     "text": [
      "Iteration 0/3 --> dim == 6\n",
      "VAE latent dim : 6\n",
      "Epoch 1/5\n",
      "375/375 [==============================] - 87s 232ms/step - loss: 187.3769 - reconstruction_loss: 185.6366 - kl_loss: 1.7403 - val_reconstruction_loss: 122.1058\n",
      "Epoch 2/5\n",
      "375/375 [==============================] - 89s 237ms/step - loss: 98.3742 - reconstruction_loss: 95.1375 - kl_loss: 3.2367 - val_reconstruction_loss: 92.8147\n",
      "Epoch 3/5\n",
      "375/375 [==============================] - 90s 240ms/step - loss: 85.5043 - reconstruction_loss: 82.0926 - kl_loss: 3.4117 - val_reconstruction_loss: 82.3829\n",
      "Epoch 4/5\n",
      "375/375 [==============================] - 91s 242ms/step - loss: 79.8884 - reconstruction_loss: 76.4248 - kl_loss: 3.4636 - val_reconstruction_loss: 77.8979\n",
      "Epoch 5/5\n",
      "375/375 [==============================] - 91s 243ms/step - loss: 76.3638 - reconstruction_loss: 72.8618 - kl_loss: 3.5020 - val_reconstruction_loss: 74.4425\n",
      "Iteration 1/3 --> dim == 10\n",
      "VAE latent dim : 10\n",
      "Epoch 1/5\n",
      "375/375 [==============================] - 92s 244ms/step - loss: 202.1694 - reconstruction_loss: 200.5541 - kl_loss: 1.6152 - val_reconstruction_loss: 126.7228\n",
      "Epoch 2/5\n",
      "375/375 [==============================] - 91s 243ms/step - loss: 106.5919 - reconstruction_loss: 103.6486 - kl_loss: 2.9433 - val_reconstruction_loss: 97.4889\n",
      "Epoch 3/5\n",
      "375/375 [==============================] - 91s 243ms/step - loss: 90.8343 - reconstruction_loss: 87.6981 - kl_loss: 3.1362 - val_reconstruction_loss: 88.2075\n",
      "Epoch 4/5\n",
      "375/375 [==============================] - 92s 245ms/step - loss: 84.2049 - reconstruction_loss: 81.0030 - kl_loss: 3.2019 - val_reconstruction_loss: 81.7741\n",
      "Epoch 5/5\n",
      "375/375 [==============================] - 91s 244ms/step - loss: 80.2578 - reconstruction_loss: 77.0189 - kl_loss: 3.2389 - val_reconstruction_loss: 79.3745\n",
      "Iteration 2/3 --> dim == 12\n",
      "VAE latent dim : 12\n",
      "Epoch 1/5\n",
      "375/375 [==============================] - 92s 246ms/step - loss: 194.0601 - reconstruction_loss: 192.3868 - kl_loss: 1.6733 - val_reconstruction_loss: 126.2714\n",
      "Epoch 2/5\n",
      "375/375 [==============================] - 93s 249ms/step - loss: 106.2628 - reconstruction_loss: 103.4688 - kl_loss: 2.7940 - val_reconstruction_loss: 101.7184\n",
      "Epoch 3/5\n",
      "375/375 [==============================] - 93s 248ms/step - loss: 90.1213 - reconstruction_loss: 87.0470 - kl_loss: 3.0743 - val_reconstruction_loss: 86.8538\n",
      "Epoch 4/5\n",
      "375/375 [==============================] - 93s 248ms/step - loss: 83.5177 - reconstruction_loss: 80.4166 - kl_loss: 3.1010 - val_reconstruction_loss: 81.9185\n",
      "Epoch 5/5\n",
      "375/375 [==============================] - 93s 248ms/step - loss: 79.6438 - reconstruction_loss: 76.5561 - kl_loss: 3.0877 - val_reconstruction_loss: 79.3063\n",
      "Iteration 3/3 --> dim == 14\n",
      "VAE latent dim : 14\n",
      "Epoch 1/5\n",
      "375/375 [==============================] - 93s 248ms/step - loss: 176.8290 - reconstruction_loss: 174.9789 - kl_loss: 1.8501 - val_reconstruction_loss: 109.2011\n",
      "Epoch 2/5\n",
      "375/375 [==============================] - 92s 246ms/step - loss: 95.8317 - reconstruction_loss: 92.7856 - kl_loss: 3.0462 - val_reconstruction_loss: 88.7907\n",
      "Epoch 3/5\n",
      "375/375 [==============================] - 92s 247ms/step - loss: 84.3300 - reconstruction_loss: 81.1867 - kl_loss: 3.1434 - val_reconstruction_loss: 80.6565\n",
      "Epoch 4/5\n",
      "375/375 [==============================] - 92s 246ms/step - loss: 78.9890 - reconstruction_loss: 75.8163 - kl_loss: 3.1728 - val_reconstruction_loss: 77.6970\n",
      "Epoch 5/5\n",
      "375/375 [==============================] - 5830s 16s/step - loss: 75.5191 - reconstruction_loss: 72.3287 - kl_loss: 3.1904 - val_reconstruction_loss: 74.1534\n",
      "Iteration 0/3 --> dim == 6\n",
      "VAE latent dim : 6\n",
      "Epoch 1/5\n",
      "375/375 [==============================] - 91s 244ms/step - loss: 198.0700 - reconstruction_loss: 195.9747 - kl_loss: 2.0954 - val_reconstruction_loss: 121.4972\n",
      "Epoch 2/5\n",
      "375/375 [==============================] - 90s 241ms/step - loss: 102.4051 - reconstruction_loss: 99.0685 - kl_loss: 3.3366 - val_reconstruction_loss: 94.2002\n",
      "Epoch 3/5\n",
      "375/375 [==============================] - 93s 247ms/step - loss: 87.8020 - reconstruction_loss: 84.3912 - kl_loss: 3.4107 - val_reconstruction_loss: 85.2222\n",
      "Epoch 4/5\n",
      "375/375 [==============================] - 93s 248ms/step - loss: 81.7975 - reconstruction_loss: 78.3434 - kl_loss: 3.4541 - val_reconstruction_loss: 79.5441\n",
      "Epoch 5/5\n",
      "375/375 [==============================] - 93s 247ms/step - loss: 77.8085 - reconstruction_loss: 74.3276 - kl_loss: 3.4810 - val_reconstruction_loss: 76.7128\n",
      "Iteration 1/3 --> dim == 10\n",
      "VAE latent dim : 10\n",
      "Epoch 1/5\n",
      "375/375 [==============================] - 94s 250ms/step - loss: 190.3853 - reconstruction_loss: 188.7067 - kl_loss: 1.6786 - val_reconstruction_loss: 115.3200\n",
      "Epoch 2/5\n",
      "375/375 [==============================] - 94s 250ms/step - loss: 95.7871 - reconstruction_loss: 92.7283 - kl_loss: 3.0588 - val_reconstruction_loss: 89.8623\n",
      "Epoch 3/5\n",
      "375/375 [==============================] - 94s 250ms/step - loss: 82.9254 - reconstruction_loss: 79.7150 - kl_loss: 3.2105 - val_reconstruction_loss: 80.4715\n",
      "Epoch 4/5\n",
      "375/375 [==============================] - 94s 250ms/step - loss: 77.5745 - reconstruction_loss: 74.3544 - kl_loss: 3.2202 - val_reconstruction_loss: 75.6816\n",
      "Epoch 5/5\n",
      "375/375 [==============================] - 94s 251ms/step - loss: 74.2098 - reconstruction_loss: 70.9696 - kl_loss: 3.2402 - val_reconstruction_loss: 73.3549\n",
      "Iteration 2/3 --> dim == 12\n",
      "VAE latent dim : 12\n",
      "Epoch 1/5\n",
      "375/375 [==============================] - 94s 251ms/step - loss: 187.7924 - reconstruction_loss: 186.1530 - kl_loss: 1.6394 - val_reconstruction_loss: 118.1290\n",
      "Epoch 2/5\n",
      "375/375 [==============================] - 94s 250ms/step - loss: 97.6615 - reconstruction_loss: 94.7501 - kl_loss: 2.9115 - val_reconstruction_loss: 90.6055\n",
      "Epoch 3/5\n",
      "375/375 [==============================] - 96s 256ms/step - loss: 84.3639 - reconstruction_loss: 81.3265 - kl_loss: 3.0374 - val_reconstruction_loss: 82.1412\n",
      "Epoch 4/5\n",
      "375/375 [==============================] - 94s 250ms/step - loss: 78.7068 - reconstruction_loss: 75.6746 - kl_loss: 3.0323 - val_reconstruction_loss: 78.3675\n",
      "Epoch 5/5\n",
      "375/375 [==============================] - 93s 249ms/step - loss: 75.0715 - reconstruction_loss: 72.0447 - kl_loss: 3.0268 - val_reconstruction_loss: 74.0172\n",
      "Iteration 3/3 --> dim == 14\n",
      "VAE latent dim : 14\n",
      "Epoch 1/5\n",
      "375/375 [==============================] - 94s 251ms/step - loss: 198.0724 - reconstruction_loss: 196.4545 - kl_loss: 1.6179 - val_reconstruction_loss: 124.6567\n",
      "Epoch 2/5\n",
      "375/375 [==============================] - 95s 253ms/step - loss: 103.6345 - reconstruction_loss: 100.5587 - kl_loss: 3.0757 - val_reconstruction_loss: 96.5996\n",
      "Epoch 3/5\n",
      "375/375 [==============================] - 94s 249ms/step - loss: 87.8268 - reconstruction_loss: 84.6813 - kl_loss: 3.1456 - val_reconstruction_loss: 86.4957\n",
      "Epoch 4/5\n",
      "375/375 [==============================] - 93s 249ms/step - loss: 81.3857 - reconstruction_loss: 78.2251 - kl_loss: 3.1606 - val_reconstruction_loss: 80.8209\n",
      "Epoch 5/5\n",
      "375/375 [==============================] - 93s 249ms/step - loss: 77.6226 - reconstruction_loss: 74.4566 - kl_loss: 3.1660 - val_reconstruction_loss: 76.9276\n",
      "Iteration 0/3 --> dim == 6\n",
      "VAE latent dim : 6\n",
      "Epoch 1/5\n",
      "375/375 [==============================] - 93s 247ms/step - loss: 188.5835 - reconstruction_loss: 186.6733 - kl_loss: 1.9101 - val_reconstruction_loss: 118.8389\n",
      "Epoch 2/5\n",
      "375/375 [==============================] - 93s 247ms/step - loss: 100.5743 - reconstruction_loss: 97.3116 - kl_loss: 3.2627 - val_reconstruction_loss: 92.8199\n",
      "Epoch 3/5\n",
      "375/375 [==============================] - 92s 246ms/step - loss: 87.0534 - reconstruction_loss: 83.5940 - kl_loss: 3.4594 - val_reconstruction_loss: 84.0121\n",
      "Epoch 4/5\n",
      "375/375 [==============================] - 93s 248ms/step - loss: 81.1674 - reconstruction_loss: 77.6524 - kl_loss: 3.5150 - val_reconstruction_loss: 78.8863\n",
      "Epoch 5/5\n",
      "375/375 [==============================] - 93s 247ms/step - loss: 77.6846 - reconstruction_loss: 74.1405 - kl_loss: 3.5441 - val_reconstruction_loss: 76.0560\n",
      "Iteration 1/3 --> dim == 10\n",
      "VAE latent dim : 10\n",
      "Epoch 1/5\n",
      "375/375 [==============================] - 95s 252ms/step - loss: 197.5840 - reconstruction_loss: 195.8533 - kl_loss: 1.7307 - val_reconstruction_loss: 119.3002\n",
      "Epoch 2/5\n",
      "375/375 [==============================] - 94s 250ms/step - loss: 98.6102 - reconstruction_loss: 95.4702 - kl_loss: 3.1399 - val_reconstruction_loss: 90.9072\n",
      "Epoch 3/5\n",
      "375/375 [==============================] - 93s 249ms/step - loss: 84.9206 - reconstruction_loss: 81.6312 - kl_loss: 3.2894 - val_reconstruction_loss: 80.8407\n",
      "Epoch 4/5\n",
      "375/375 [==============================] - 94s 250ms/step - loss: 79.5651 - reconstruction_loss: 76.2344 - kl_loss: 3.3307 - val_reconstruction_loss: 76.6839\n",
      "Epoch 5/5\n",
      "375/375 [==============================] - 93s 249ms/step - loss: 75.9690 - reconstruction_loss: 72.6164 - kl_loss: 3.3526 - val_reconstruction_loss: 73.7701\n",
      "Iteration 2/3 --> dim == 12\n",
      "VAE latent dim : 12\n",
      "Epoch 1/5\n",
      "375/375 [==============================] - 94s 251ms/step - loss: 197.8379 - reconstruction_loss: 196.1295 - kl_loss: 1.7084 - val_reconstruction_loss: 116.0231\n",
      "Epoch 2/5\n",
      "375/375 [==============================] - 94s 250ms/step - loss: 98.9166 - reconstruction_loss: 95.7036 - kl_loss: 3.2131 - val_reconstruction_loss: 91.5878\n",
      "Epoch 3/5\n",
      "375/375 [==============================] - 91s 242ms/step - loss: 85.6219 - reconstruction_loss: 82.3502 - kl_loss: 3.2717 - val_reconstruction_loss: 82.9935\n",
      "Epoch 4/5\n",
      "375/375 [==============================] - 90s 240ms/step - loss: 79.7905 - reconstruction_loss: 76.5108 - kl_loss: 3.2797 - val_reconstruction_loss: 78.1580\n",
      "Epoch 5/5\n",
      "375/375 [==============================] - 92s 245ms/step - loss: 76.4964 - reconstruction_loss: 73.2080 - kl_loss: 3.2885 - val_reconstruction_loss: 75.4569\n",
      "Iteration 3/3 --> dim == 14\n",
      "VAE latent dim : 14\n",
      "Epoch 1/5\n",
      "375/375 [==============================] - 93s 248ms/step - loss: 191.8616 - reconstruction_loss: 190.2741 - kl_loss: 1.5876 - val_reconstruction_loss: 121.6689\n",
      "Epoch 2/5\n",
      "375/375 [==============================] - 92s 245ms/step - loss: 99.2496 - reconstruction_loss: 96.4027 - kl_loss: 2.8469 - val_reconstruction_loss: 91.9547\n",
      "Epoch 3/5\n",
      "375/375 [==============================] - 93s 247ms/step - loss: 85.1003 - reconstruction_loss: 82.0177 - kl_loss: 3.0826 - val_reconstruction_loss: 84.9067\n",
      "Epoch 4/5\n",
      "375/375 [==============================] - 95s 252ms/step - loss: 79.8510 - reconstruction_loss: 76.7305 - kl_loss: 3.1205 - val_reconstruction_loss: 78.2676\n",
      "Epoch 5/5\n",
      "375/375 [==============================] - 96s 256ms/step - loss: 76.3330 - reconstruction_loss: 73.1866 - kl_loss: 3.1465 - val_reconstruction_loss: 75.3361\n"
     ]
    }
   ],
   "source": [
    "dims = [6, 10, 12, 14]\n",
    "files = [\"LS_dim_losses3\", \"LS_dim_losses4\", \"LS_dim_losses5\"]\n",
    "\n",
    "for k in range(3):\n",
    "    l = []\n",
    "    for i, dim in enumerate(dims):\n",
    "        print(f\"Iteration {i}/{len(dims) - 1} --> dim == {dim}\")\n",
    "        vae = VAE(dim)\n",
    "        print(f\"VAE latent dim : {vae.latent_dim}\")\n",
    "        vae.compile(optimizer=keras.optimizers.Adam())\n",
    "        history = vae.fit(x_train, epochs=5, batch_size=128, validation_split=0.2)\n",
    "        l.append(history.history[\"val_reconstruction_loss\"][-1])    \n",
    "    ar = np.array(l)\n",
    "    np.save(files[k], ar)"
   ]
  },
  {
   "cell_type": "code",
   "execution_count": 10,
   "metadata": {
    "colab": {},
    "colab_type": "code",
    "id": "li96e_-FsEwl"
   },
   "outputs": [
    {
     "name": "stderr",
     "output_type": "stream",
     "text": [
      "C:\\Users\\Hugo\\anaconda3\\lib\\site-packages\\ipykernel_launcher.py:33: UserWarning: Matplotlib is currently using module://ipykernel.pylab.backend_inline, which is a non-GUI backend, so cannot show the figure.\n"
     ]
    },
    {
     "data": {
      "image/png": "[encoded data removed]",
      "text/plain": [
       "<Figure size 576x432 with 1 Axes>"
      ]
     },
     "metadata": {
      "needs_background": "light"
     },
     "output_type": "display_data"
    }
   ],
   "source": [
    "dims = [1, 2, 4, 6, 8, 10, 12, 14, 16, 20, 24, 32, 64, 128]\n",
    "\n",
    "a1, a2, a3, a4, a5, a6 = np.load(\"LS_dim_losses.npy\"), np.load(\"LS_dim_losses1.npy\"), np.load(\"LS_dim_losses2.npy\"), np.load(\"LS_dim_losses3.npy\"), np.load(\"LS_dim_losses4.npy\"), np.load(\"LS_dim_losses5.npy\")\n",
    "\n",
    "loss1 = []\n",
    "loss2 = []\n",
    "loss3 = []\n",
    "j, k = 0, 0\n",
    "for i in range(14):\n",
    "    if i in [3, 5, 6, 7]:\n",
    "        loss1.append(a4[j])\n",
    "        loss2.append(a5[j])\n",
    "        loss3.append(a6[j])\n",
    "        j += 1\n",
    "    else:\n",
    "        loss1.append(a1[k])\n",
    "        loss2.append(a2[k])\n",
    "        loss3.append(a3[k])\n",
    "        k += 1\n",
    "        \n",
    "losses = np.array([[xi for xi in loss1], [xi for xi in loss2], [xi for xi in loss3]])\n",
    "means = np.mean(losses, axis=0)\n",
    "bounds = np.array([np.min(losses, axis=0), np.max(losses, axis=0)])\n",
    "\n",
    "fig, ax = plt.subplots(1, 1, figsize=(8, 6))\n",
    "ax.plot(dims, means, \".\", c=\"orange\", label=\"mean loss\")\n",
    "ax.fill_between(dims, bounds[0], bounds[1], color=\"lightgrey\", label=\"min-max losses area\")\n",
    "\n",
    "ax.set_xlabel(\"Latent space dimension (# filters of z_mean and z_log_var)\")\n",
    "ax.set_ylabel(\"Reconstruction loss\")\n",
    "ax.legend()\n",
    "fig.suptitle(\"Mean L2 loss on validation set after last epoch\")\n",
    "fig.show()"
   ]
  },
  {
   "cell_type": "markdown",
   "metadata": {},
   "source": [
    "*RESULTS*: We see here that the latent space dimension has a positive effect on the model's performance. However, over some threshold (between 8 and 20), it doesn't improve the performances anymore, maybe has opposite effects. Maybe the degraded performances are due to too much parameters in the models with high latent dimensions.\n",
    "\n",
    "*CONCLUSION*: We conclude here that the latent space dimension has to be over some optimal value (intuitively to encode/embed all the diversity of MNIST digits with as less ambiguity as possible). Over this optimum, increasing the latent dimension has no benefits and the consequent increase in the number of parameters p "
   ]
  }
 ],
 "metadata": {
  "accelerator": "GPU",
  "colab": {
   "name": "LS_dim_MNIST.ipynb",
   "provenance": []
  },
  "kernelspec": {
   "display_name": "Python 3",
   "language": "python",
   "name": "python3"
  },
  "language_info": {
   "codemirror_mode": {
    "name": "ipython",
    "version": 3
   },
   "file_extension": ".py",
   "mimetype": "text/x-python",
   "name": "python",
   "nbconvert_exporter": "python",
   "pygments_lexer": "ipython3",
   "version": "3.7.6"
  }
 },
 "nbformat": 4,
 "nbformat_minor": 4
}
